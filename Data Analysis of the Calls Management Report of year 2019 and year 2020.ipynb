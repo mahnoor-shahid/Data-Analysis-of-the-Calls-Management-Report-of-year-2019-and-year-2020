{
 "cells": [
  {
   "cell_type": "markdown",
   "metadata": {},
   "source": [
    "# Data Analysis of the Calls Management Report 2019 vs 2020"
   ]
  },
  {
   "cell_type": "markdown",
   "metadata": {},
   "source": [
    "## Goal for this Notebook\n",
    "\n",
    "This notebook aims to perform Data Analysis on the provided datasets for Calls Management in the years of 2019 and 2020. Make a comparison notebook describing different highlighting facts with the help of exploratory data analysis and visualizations."
   ]
  },
  {
   "cell_type": "markdown",
   "metadata": {},
   "source": [
    "#### Data Handling\n",
    "\n",
    "- Importing Data with Pandas\n",
    "- Cleaning Data\n",
    "- Data Transformation\n",
    "\n",
    "#### Data Visualization\n",
    "- Exploring Data through Visualizations with Matplotlib\n",
    "- Exploring Data through Visualizations with Seaborn\n",
    "\n",
    "#### Required Packages\n",
    "- NumPy\n",
    "- Pandas\n",
    "- Scikit Learn\n",
    "- Matplotlib"
   ]
  },
  {
   "cell_type": "markdown",
   "metadata": {},
   "source": [
    "To begin with, let's make all the necessary imports to start working."
   ]
  },
  {
   "cell_type": "code",
   "execution_count": 1,
   "metadata": {
    "_cell_guid": "61791595-0387-442f-9d9c-8ae50323fea2",
    "_uuid": "2167ade64955082a54b122491997afde731a6624"
   },
   "outputs": [],
   "source": [
    "# for performing mathematical operations\n",
    "import numpy as np \n",
    "\n",
    "# for data processing, Excel file I/O \n",
    "import pandas as pd \n",
    "\n",
    "# for plotting and visualozing data\n",
    "import matplotlib.pyplot as plt \n",
    "import seaborn as sns"
   ]
  },
  {
   "cell_type": "markdown",
   "metadata": {},
   "source": [
    "## Data Exploration of 2019 and 2020 Service Calls\n",
    "\n",
    "In this section, required dataset is imported, explored and cleaned to make it available in the right format for analysis.\n",
    "\n",
    "Data Analysis techniques used in this section includes: \n",
    "- Importing data set using Pandas \n",
    "- Exploring data to find features and target \n",
    "- Handling missing or corrupted values in the data\n",
    "- Visualizing data using Matplotlib or Seaborn to explore relationships"
   ]
  },
  {
   "cell_type": "markdown",
   "metadata": {},
   "source": [
    "## Dataset Details\n",
    "\n",
    "We will be using the Excel format file called **2019** and **2020** for data analysis. The Excel file contains rows (observations) describing each call using some factors defined with the help of columns (features). Each dataset contains more than 1000 observations. "
   ]
  },
  {
   "cell_type": "markdown",
   "metadata": {},
   "source": [
    "#### Importing Data using Pandas Library"
   ]
  },
  {
   "cell_type": "code",
   "execution_count": 2,
   "metadata": {
    "_cell_guid": "621125e7-b216-41ad-ab85-689a882aff89",
    "_uuid": "6998635ba361887c513315ab4d09eb659ae5f8a8"
   },
   "outputs": [],
   "source": [
    "# read the data from the excel files into a dataframes\n",
    "dataset_2019 = pd.read_excel('2019.xlsx', index=0)\n",
    "dataset_2020 = pd.read_excel('2020.xlsx', index=0)"
   ]
  },
  {
   "cell_type": "markdown",
   "metadata": {
    "_cell_guid": "95a69e06-07e2-4dc5-a1db-60d61955d876",
    "_uuid": "0dac8ae5159670925412662863a86f5ba5bade11"
   },
   "source": [
    "## Investigating Datasets\n",
    "We have loaded our required dataset, now we will see it's first five rows to check how our data looks."
   ]
  },
  {
   "cell_type": "code",
   "execution_count": 3,
   "metadata": {
    "_cell_guid": "a90a4fad-924f-48ba-95f6-dc7a6f5dcf61",
    "_uuid": "0b998e6097e66f862e8cc5db686810e50d824ad5"
   },
   "outputs": [
    {
     "data": {
      "text/html": [
       "<div>\n",
       "<style scoped>\n",
       "    .dataframe tbody tr th:only-of-type {\n",
       "        vertical-align: middle;\n",
       "    }\n",
       "\n",
       "    .dataframe tbody tr th {\n",
       "        vertical-align: top;\n",
       "    }\n",
       "\n",
       "    .dataframe thead th {\n",
       "        text-align: right;\n",
       "    }\n",
       "</style>\n",
       "<table border=\"1\" class=\"dataframe\">\n",
       "  <thead>\n",
       "    <tr style=\"text-align: right;\">\n",
       "      <th></th>\n",
       "      <th>Call No.</th>\n",
       "      <th>Item</th>\n",
       "      <th>Serial No.</th>\n",
       "      <th>Machine Description</th>\n",
       "      <th>Call Description</th>\n",
       "      <th>Solution Description</th>\n",
       "      <th>Call Date</th>\n",
       "      <th>Call Time</th>\n",
       "      <th>Downtime</th>\n",
       "      <th>Spent Time</th>\n",
       "      <th>Job Type</th>\n",
       "      <th>Required Activity</th>\n",
       "      <th>Job Priority</th>\n",
       "      <th>Service Engineer</th>\n",
       "      <th>Engineer Name</th>\n",
       "      <th>Support Engineer</th>\n",
       "      <th>Support Enginner Name</th>\n",
       "      <th>Call Status</th>\n",
       "    </tr>\n",
       "  </thead>\n",
       "  <tbody>\n",
       "    <tr>\n",
       "      <th>0</th>\n",
       "      <td>CAL014947</td>\n",
       "      <td>Coronoa C15</td>\n",
       "      <td>B002/15</td>\n",
       "      <td>Coronoa C15</td>\n",
       "      <td>oil leakage</td>\n",
       "      <td>Checked and released two new shaft seal oil filer</td>\n",
       "      <td>2019-01-01 00:00:00</td>\n",
       "      <td>07:19:00</td>\n",
       "      <td>0.0</td>\n",
       "      <td>1.5</td>\n",
       "      <td>MECHANICAL</td>\n",
       "      <td>DEFECT LIST ACTIVITY</td>\n",
       "      <td>HIGH</td>\n",
       "      <td>127690</td>\n",
       "      <td>ABHILASH MUNJANATT GEORGE</td>\n",
       "      <td></td>\n",
       "      <td>NaN</td>\n",
       "      <td>Solved</td>\n",
       "    </tr>\n",
       "    <tr>\n",
       "      <th>1</th>\n",
       "      <td>CAL014948</td>\n",
       "      <td>Coronoa C15</td>\n",
       "      <td>B002</td>\n",
       "      <td>Coronoa C15 C15-26 SN:MMFE 982259</td>\n",
       "      <td>install incoudre</td>\n",
       "      <td>CHECKED ENCODE FIXED GRARBOX INSTAL NEW</td>\n",
       "      <td>2019-01-01 00:00:00</td>\n",
       "      <td>07:44:00</td>\n",
       "      <td>0.0</td>\n",
       "      <td>20.0</td>\n",
       "      <td>ELECTRICAL</td>\n",
       "      <td>DEFECT LIST ACTIVITY</td>\n",
       "      <td>HIGH</td>\n",
       "      <td>13685</td>\n",
       "      <td>CRIS CAPAROSO</td>\n",
       "      <td></td>\n",
       "      <td>NaN</td>\n",
       "      <td>Solved</td>\n",
       "    </tr>\n",
       "    <tr>\n",
       "      <th>2</th>\n",
       "      <td>CAL014949</td>\n",
       "      <td>Coronoa C15</td>\n",
       "      <td>B002/1</td>\n",
       "      <td>Coronoa C15 TYPE:3681 SN:MMFE 982259</td>\n",
       "      <td>required 40 pcs cap red SPML - 2001</td>\n",
       "      <td>use for spare pats</td>\n",
       "      <td>2019-01-01 00:00:00</td>\n",
       "      <td>08:00:00</td>\n",
       "      <td>0.0</td>\n",
       "      <td>0.0</td>\n",
       "      <td>MECHANICAL</td>\n",
       "      <td>OPERATIONAL SPARE PARTS</td>\n",
       "      <td>HIGH</td>\n",
       "      <td>10806</td>\n",
       "      <td>Saleh Al Gasmi</td>\n",
       "      <td></td>\n",
       "      <td>NaN</td>\n",
       "      <td>Solved</td>\n",
       "    </tr>\n",
       "    <tr>\n",
       "      <th>3</th>\n",
       "      <td>CAL014950</td>\n",
       "      <td>MUSCA 2</td>\n",
       "      <td>B017</td>\n",
       "      <td>(MUSCA 2) TYPE:R0-TRP-5 SN:102018</td>\n",
       "      <td>Strap-pix roller cover broken(DEFECT)</td>\n",
       "      <td>REPAIR ROLLER COVER AND FIXED</td>\n",
       "      <td>2019-01-01 00:00:00</td>\n",
       "      <td>09:30:00</td>\n",
       "      <td>0.0</td>\n",
       "      <td>3.0</td>\n",
       "      <td>MECHANICAL</td>\n",
       "      <td>DEFECT LIST ACTIVITY</td>\n",
       "      <td>HIGH</td>\n",
       "      <td>20007</td>\n",
       "      <td>Roger Dizon</td>\n",
       "      <td>20007</td>\n",
       "      <td>Roger Dizon</td>\n",
       "      <td>Solved</td>\n",
       "    </tr>\n",
       "    <tr>\n",
       "      <th>4</th>\n",
       "      <td>CAL014951</td>\n",
       "      <td>LITHOMAN 2</td>\n",
       "      <td>P016</td>\n",
       "      <td>LITHOMAN 2 SN:4040505</td>\n",
       "      <td>Fuse monitor responded side  1 FU1 3 FO Below</td>\n",
       "      <td>Check breake and loads extained wiring fixed</td>\n",
       "      <td>2019-01-01 00:00:00</td>\n",
       "      <td>09:43:00</td>\n",
       "      <td>0.0</td>\n",
       "      <td>11.0</td>\n",
       "      <td>ELECTRICAL/MECHANICA</td>\n",
       "      <td>DEFECT LIST ACTIVITY</td>\n",
       "      <td>HIGH</td>\n",
       "      <td>127889</td>\n",
       "      <td>RONALD FRANCO MARCHAN</td>\n",
       "      <td></td>\n",
       "      <td>NaN</td>\n",
       "      <td>Solved</td>\n",
       "    </tr>\n",
       "  </tbody>\n",
       "</table>\n",
       "</div>"
      ],
      "text/plain": [
       "    Call No.         Item                      Serial No.  \\\n",
       "0  CAL014947  Coronoa C15  B002/15                          \n",
       "1  CAL014948  Coronoa C15  B002                             \n",
       "2  CAL014949  Coronoa C15  B002/1                           \n",
       "3  CAL014950      MUSCA 2  B017                             \n",
       "4  CAL014951   LITHOMAN 2  P016                             \n",
       "\n",
       "                    Machine Description  \\\n",
       "0                           Coronoa C15   \n",
       "1     Coronoa C15 C15-26 SN:MMFE 982259   \n",
       "2  Coronoa C15 TYPE:3681 SN:MMFE 982259   \n",
       "3     (MUSCA 2) TYPE:R0-TRP-5 SN:102018   \n",
       "4                 LITHOMAN 2 SN:4040505   \n",
       "\n",
       "                                Call Description  \\\n",
       "0                                    oil leakage   \n",
       "1                               install incoudre   \n",
       "2            required 40 pcs cap red SPML - 2001   \n",
       "3          Strap-pix roller cover broken(DEFECT)   \n",
       "4  Fuse monitor responded side  1 FU1 3 FO Below   \n",
       "\n",
       "                                Solution Description            Call Date  \\\n",
       "0  Checked and released two new shaft seal oil filer  2019-01-01 00:00:00   \n",
       "1            CHECKED ENCODE FIXED GRARBOX INSTAL NEW  2019-01-01 00:00:00   \n",
       "2                                 use for spare pats  2019-01-01 00:00:00   \n",
       "3                      REPAIR ROLLER COVER AND FIXED  2019-01-01 00:00:00   \n",
       "4       Check breake and loads extained wiring fixed  2019-01-01 00:00:00   \n",
       "\n",
       "  Call Time  Downtime  Spent Time              Job Type  \\\n",
       "0  07:19:00       0.0         1.5  MECHANICAL             \n",
       "1  07:44:00       0.0        20.0  ELECTRICAL             \n",
       "2  08:00:00       0.0         0.0  MECHANICAL             \n",
       "3  09:30:00       0.0         3.0  MECHANICAL             \n",
       "4  09:43:00       0.0        11.0  ELECTRICAL/MECHANICA   \n",
       "\n",
       "                Required Activity          Job Priority Service Engineer  \\\n",
       "0  DEFECT LIST ACTIVITY            HIGH                           127690   \n",
       "1  DEFECT LIST ACTIVITY            HIGH                            13685   \n",
       "2  OPERATIONAL SPARE PARTS         HIGH                            10806   \n",
       "3  DEFECT LIST ACTIVITY            HIGH                            20007   \n",
       "4  DEFECT LIST ACTIVITY            HIGH                           127889   \n",
       "\n",
       "                         Engineer Name Support Engineer  \\\n",
       "0  ABHILASH MUNJANATT GEORGE                              \n",
       "1  CRIS CAPAROSO                                          \n",
       "2  Saleh Al Gasmi                                         \n",
       "3  Roger Dizon                                    20007   \n",
       "4  RONALD FRANCO MARCHAN                                  \n",
       "\n",
       "                 Support Enginner Name Call Status  \n",
       "0                                  NaN      Solved  \n",
       "1                                  NaN      Solved  \n",
       "2                                  NaN      Solved  \n",
       "3  Roger Dizon                              Solved  \n",
       "4                                  NaN      Solved  "
      ]
     },
     "execution_count": 3,
     "metadata": {},
     "output_type": "execute_result"
    }
   ],
   "source": [
    "# checking first five rows of our 2019 dataset\n",
    "dataset_2019.head()"
   ]
  },
  {
   "cell_type": "code",
   "execution_count": 4,
   "metadata": {
    "_cell_guid": "a90a4fad-924f-48ba-95f6-dc7a6f5dcf61",
    "_uuid": "0b998e6097e66f862e8cc5db686810e50d824ad5"
   },
   "outputs": [
    {
     "data": {
      "text/html": [
       "<div>\n",
       "<style scoped>\n",
       "    .dataframe tbody tr th:only-of-type {\n",
       "        vertical-align: middle;\n",
       "    }\n",
       "\n",
       "    .dataframe tbody tr th {\n",
       "        vertical-align: top;\n",
       "    }\n",
       "\n",
       "    .dataframe thead th {\n",
       "        text-align: right;\n",
       "    }\n",
       "</style>\n",
       "<table border=\"1\" class=\"dataframe\">\n",
       "  <thead>\n",
       "    <tr style=\"text-align: right;\">\n",
       "      <th></th>\n",
       "      <th>Call No.</th>\n",
       "      <th>Item</th>\n",
       "      <th>Serial No.</th>\n",
       "      <th>Machine Description</th>\n",
       "      <th>Call Description</th>\n",
       "      <th>Solution Description</th>\n",
       "      <th>Call Date</th>\n",
       "      <th>Call Time</th>\n",
       "      <th>Downtime</th>\n",
       "      <th>Spent Time</th>\n",
       "      <th>Job Type</th>\n",
       "      <th>Required Activity</th>\n",
       "      <th>Job Priority</th>\n",
       "      <th>Service Engineer</th>\n",
       "      <th>Engineer Name</th>\n",
       "      <th>Support Engineer</th>\n",
       "      <th>Support Enginner Name</th>\n",
       "      <th>Call Status</th>\n",
       "    </tr>\n",
       "  </thead>\n",
       "  <tbody>\n",
       "    <tr>\n",
       "      <th>0</th>\n",
       "      <td>CAL017704</td>\n",
       "      <td>MULLER NURM BINDER</td>\n",
       "      <td>B001</td>\n",
       "      <td>MULLER NURM BINDER SN:94.00506</td>\n",
       "      <td>Reject gate belt bearing damage</td>\n",
       "      <td>Reject Gate Belt Bearing Damage</td>\n",
       "      <td>2020-01-01 00:00:00</td>\n",
       "      <td>08:53:00</td>\n",
       "      <td>0.0</td>\n",
       "      <td>0.75</td>\n",
       "      <td>MECHANICAL</td>\n",
       "      <td>Break down maintenance</td>\n",
       "      <td>HIGH</td>\n",
       "      <td>127690</td>\n",
       "      <td>ABHILASH MUNJANATT GEORGE</td>\n",
       "      <td></td>\n",
       "      <td>NaN</td>\n",
       "      <td>Solved</td>\n",
       "    </tr>\n",
       "    <tr>\n",
       "      <th>1</th>\n",
       "      <td>CAL017705</td>\n",
       "      <td>MULLER NURM GATHERING</td>\n",
       "      <td>B001/1</td>\n",
       "      <td>MULLER NURM GATHERING TYPE:3690 SN:9400506</td>\n",
       "      <td>rejected unit motor not running</td>\n",
       "      <td>NaN</td>\n",
       "      <td>2020-01-01 00:00:00</td>\n",
       "      <td>09:37:00</td>\n",
       "      <td>0.0</td>\n",
       "      <td>0.15</td>\n",
       "      <td>ELECTRICAL/MECHANICA</td>\n",
       "      <td>Break down maintenance</td>\n",
       "      <td>HIGH</td>\n",
       "      <td>127889</td>\n",
       "      <td>RONALD FRANCO MARCHAN</td>\n",
       "      <td></td>\n",
       "      <td>NaN</td>\n",
       "      <td>Solved</td>\n",
       "    </tr>\n",
       "    <tr>\n",
       "      <th>2</th>\n",
       "      <td>CAL017706</td>\n",
       "      <td>LITHOMAN 1/WEB OFFSET</td>\n",
       "      <td>P010</td>\n",
       "      <td>LITHOMAN 1/WEB OFFSET SN:4080518 SERIES:4065035</td>\n",
       "      <td>Parts Required for Monthly PM</td>\n",
       "      <td>NaN</td>\n",
       "      <td>2020-01-01 00:00:00</td>\n",
       "      <td>11:44:00</td>\n",
       "      <td>0.0</td>\n",
       "      <td>0.50</td>\n",
       "      <td>ELECTRICAL</td>\n",
       "      <td>PREVENTIVE MAINTENANCE MONTHLY</td>\n",
       "      <td>NaN</td>\n",
       "      <td>127889</td>\n",
       "      <td>RONALD FRANCO MARCHAN</td>\n",
       "      <td></td>\n",
       "      <td>NaN</td>\n",
       "      <td>Solved</td>\n",
       "    </tr>\n",
       "    <tr>\n",
       "      <th>3</th>\n",
       "      <td>CAL017707</td>\n",
       "      <td>ROLAND 704 #1</td>\n",
       "      <td>P004</td>\n",
       "      <td>(ROLAND 704 #1) TYPE R704-3B SN:28879B SERIES:734</td>\n",
       "      <td>Protective guard RTR does not react.</td>\n",
       "      <td>Protective Guard RTR does not react</td>\n",
       "      <td>2020-02-01 00:00:00</td>\n",
       "      <td>07:55:00</td>\n",
       "      <td>0.0</td>\n",
       "      <td>1.50</td>\n",
       "      <td>ELECTRICAL</td>\n",
       "      <td>Break down maintenance</td>\n",
       "      <td>HIGH</td>\n",
       "      <td>127889</td>\n",
       "      <td>RONALD FRANCO MARCHAN</td>\n",
       "      <td></td>\n",
       "      <td>NaN</td>\n",
       "      <td>Solved</td>\n",
       "    </tr>\n",
       "    <tr>\n",
       "      <th>4</th>\n",
       "      <td>CAL017708</td>\n",
       "      <td>LITHOMAN PUMP 02</td>\n",
       "      <td>ULP02</td>\n",
       "      <td>LITHOMAN PUMP 02</td>\n",
       "      <td>Abnormal Sound in water pump</td>\n",
       "      <td>NaN</td>\n",
       "      <td>2020-02-01 00:00:00</td>\n",
       "      <td>09:04:00</td>\n",
       "      <td>0.0</td>\n",
       "      <td>1.00</td>\n",
       "      <td>MECHANICAL</td>\n",
       "      <td>DEFECT LIST ACTIVITY</td>\n",
       "      <td>NaN</td>\n",
       "      <td>127690</td>\n",
       "      <td>ABHILASH MUNJANATT GEORGE</td>\n",
       "      <td></td>\n",
       "      <td>NaN</td>\n",
       "      <td>Solved</td>\n",
       "    </tr>\n",
       "  </tbody>\n",
       "</table>\n",
       "</div>"
      ],
      "text/plain": [
       "    Call No.                   Item                      Serial No.  \\\n",
       "0  CAL017704     MULLER NURM BINDER  B001                             \n",
       "1  CAL017705  MULLER NURM GATHERING  B001/1                           \n",
       "2  CAL017706  LITHOMAN 1/WEB OFFSET  P010                             \n",
       "3  CAL017707          ROLAND 704 #1  P004                             \n",
       "4  CAL017708       LITHOMAN PUMP 02  ULP02                            \n",
       "\n",
       "                                 Machine Description  \\\n",
       "0                     MULLER NURM BINDER SN:94.00506   \n",
       "1         MULLER NURM GATHERING TYPE:3690 SN:9400506   \n",
       "2    LITHOMAN 1/WEB OFFSET SN:4080518 SERIES:4065035   \n",
       "3  (ROLAND 704 #1) TYPE R704-3B SN:28879B SERIES:734   \n",
       "4                                   LITHOMAN PUMP 02   \n",
       "\n",
       "                       Call Description                 Solution Description  \\\n",
       "0       Reject gate belt bearing damage      Reject Gate Belt Bearing Damage   \n",
       "1       rejected unit motor not running                                  NaN   \n",
       "2         Parts Required for Monthly PM                                  NaN   \n",
       "3  Protective guard RTR does not react.  Protective Guard RTR does not react   \n",
       "4          Abnormal Sound in water pump                                  NaN   \n",
       "\n",
       "             Call Date Call Time  Downtime  Spent Time              Job Type  \\\n",
       "0  2020-01-01 00:00:00  08:53:00       0.0        0.75  MECHANICAL             \n",
       "1  2020-01-01 00:00:00  09:37:00       0.0        0.15  ELECTRICAL/MECHANICA   \n",
       "2  2020-01-01 00:00:00  11:44:00       0.0        0.50  ELECTRICAL             \n",
       "3  2020-02-01 00:00:00  07:55:00       0.0        1.50  ELECTRICAL             \n",
       "4  2020-02-01 00:00:00  09:04:00       0.0        1.00  MECHANICAL             \n",
       "\n",
       "                Required Activity          Job Priority Service Engineer  \\\n",
       "0  Break down maintenance          HIGH                           127690   \n",
       "1  Break down maintenance          HIGH                           127889   \n",
       "2  PREVENTIVE MAINTENANCE MONTHLY                   NaN           127889   \n",
       "3  Break down maintenance          HIGH                           127889   \n",
       "4  DEFECT LIST ACTIVITY                             NaN           127690   \n",
       "\n",
       "                         Engineer Name Support Engineer Support Enginner Name  \\\n",
       "0  ABHILASH MUNJANATT GEORGE                                              NaN   \n",
       "1  RONALD FRANCO MARCHAN                                                  NaN   \n",
       "2  RONALD FRANCO MARCHAN                                                  NaN   \n",
       "3  RONALD FRANCO MARCHAN                                                  NaN   \n",
       "4  ABHILASH MUNJANATT GEORGE                                              NaN   \n",
       "\n",
       "  Call Status  \n",
       "0      Solved  \n",
       "1      Solved  \n",
       "2      Solved  \n",
       "3      Solved  \n",
       "4      Solved  "
      ]
     },
     "execution_count": 4,
     "metadata": {},
     "output_type": "execute_result"
    }
   ],
   "source": [
    "# checking first five rows of our 2020 dataset\n",
    "dataset_2020.head()"
   ]
  },
  {
   "cell_type": "code",
   "execution_count": 5,
   "metadata": {},
   "outputs": [
    {
     "name": "stdout",
     "output_type": "stream",
     "text": [
      "<class 'pandas.core.frame.DataFrame'>\n",
      "RangeIndex: 2730 entries, 0 to 2729\n",
      "Data columns (total 18 columns):\n",
      " #   Column                 Non-Null Count  Dtype  \n",
      "---  ------                 --------------  -----  \n",
      " 0   Call No.               2730 non-null   object \n",
      " 1   Item                   2652 non-null   object \n",
      " 2   Serial No.             2730 non-null   object \n",
      " 3   Machine Description    2651 non-null   object \n",
      " 4   Call Description       2730 non-null   object \n",
      " 5   Solution Description   2435 non-null   object \n",
      " 6   Call Date              2730 non-null   object \n",
      " 7   Call Time              2730 non-null   object \n",
      " 8   Downtime               2730 non-null   float64\n",
      " 9   Spent Time             2730 non-null   float64\n",
      " 10  Job Type               2719 non-null   object \n",
      " 11  Required Activity      2730 non-null   object \n",
      " 12  Job Priority           2534 non-null   object \n",
      " 13  Service Engineer       2730 non-null   object \n",
      " 14  Engineer Name          2730 non-null   object \n",
      " 15  Support Engineer       2730 non-null   object \n",
      " 16  Support Enginner Name  733 non-null    object \n",
      " 17  Call Status            2730 non-null   object \n",
      "dtypes: float64(2), object(16)\n",
      "memory usage: 384.0+ KB\n"
     ]
    }
   ],
   "source": [
    "# extracting information from the dataset_2019\n",
    "dataset_2019.info()\n",
    "n_calls_2019 , c = dataset_2019.shape"
   ]
  },
  {
   "cell_type": "markdown",
   "metadata": {},
   "source": [
    "## Analysis of Dataset_2019\n",
    "In the dataset provided, we have extracted the information regarding the columns and rows. Rows are refered as *observations*. Each column in this data set tells us something about each of our observations, like Job Priority, Call Status, or Description. \n",
    "\n",
    "From the above information, this can be figured out that we have **2 Values** of data type float-64 and **16 Values** of data type object, represented by **18** data columns.\n",
    "\n",
    "Also, we have been provided with **2730 observations**, ranged from 0 to 2729."
   ]
  },
  {
   "cell_type": "code",
   "execution_count": 6,
   "metadata": {},
   "outputs": [
    {
     "name": "stdout",
     "output_type": "stream",
     "text": [
      "<class 'pandas.core.frame.DataFrame'>\n",
      "RangeIndex: 1007 entries, 0 to 1006\n",
      "Data columns (total 18 columns):\n",
      " #   Column                 Non-Null Count  Dtype  \n",
      "---  ------                 --------------  -----  \n",
      " 0   Call No.               1007 non-null   object \n",
      " 1   Item                   984 non-null    object \n",
      " 2   Serial No.             1007 non-null   object \n",
      " 3   Machine Description    984 non-null    object \n",
      " 4   Call Description       1007 non-null   object \n",
      " 5   Solution Description   378 non-null    object \n",
      " 6   Call Date              1007 non-null   object \n",
      " 7   Call Time              1007 non-null   object \n",
      " 8   Downtime               1007 non-null   float64\n",
      " 9   Spent Time             1007 non-null   float64\n",
      " 10  Job Type               1003 non-null   object \n",
      " 11  Required Activity      1007 non-null   object \n",
      " 12  Job Priority           972 non-null    object \n",
      " 13  Service Engineer       1007 non-null   object \n",
      " 14  Engineer Name          1007 non-null   object \n",
      " 15  Support Engineer       1007 non-null   object \n",
      " 16  Support Enginner Name  183 non-null    object \n",
      " 17  Call Status            1007 non-null   object \n",
      "dtypes: float64(2), object(16)\n",
      "memory usage: 141.7+ KB\n"
     ]
    }
   ],
   "source": [
    "# extracting information from the dataset_2020\n",
    "dataset_2020.info()\n",
    "n_calls_2020 , c = dataset_2020.shape"
   ]
  },
  {
   "cell_type": "markdown",
   "metadata": {},
   "source": [
    "## Analysis of Dataset_2020\n",
    "In the dataset provided, we have extracted the information regarding the columns and rows. Rows are refered as *observations*. Each column in this data set tells us something about each of our observations, like Job Priority, Call Status, or Description. \n",
    "\n",
    "From the above information, this can be figured out that we have **2 Values** of data type float-64 and **16 Values** of data type object, represented by **18** data columns.\n",
    "\n",
    "Also, we have been provided with **1007 observations**, ranged from 0 to 1006."
   ]
  },
  {
   "cell_type": "code",
   "execution_count": 7,
   "metadata": {},
   "outputs": [
    {
     "data": {
      "text/html": [
       "<div>\n",
       "<style scoped>\n",
       "    .dataframe tbody tr th:only-of-type {\n",
       "        vertical-align: middle;\n",
       "    }\n",
       "\n",
       "    .dataframe tbody tr th {\n",
       "        vertical-align: top;\n",
       "    }\n",
       "\n",
       "    .dataframe thead th {\n",
       "        text-align: right;\n",
       "    }\n",
       "</style>\n",
       "<table border=\"1\" class=\"dataframe\">\n",
       "  <thead>\n",
       "    <tr style=\"text-align: right;\">\n",
       "      <th></th>\n",
       "      <th>count</th>\n",
       "      <th>unique</th>\n",
       "      <th>top</th>\n",
       "      <th>freq</th>\n",
       "      <th>mean</th>\n",
       "      <th>std</th>\n",
       "      <th>min</th>\n",
       "      <th>25%</th>\n",
       "      <th>50%</th>\n",
       "      <th>75%</th>\n",
       "      <th>max</th>\n",
       "    </tr>\n",
       "  </thead>\n",
       "  <tbody>\n",
       "    <tr>\n",
       "      <th>Call No.</th>\n",
       "      <td>2730</td>\n",
       "      <td>2730</td>\n",
       "      <td>CAL016358</td>\n",
       "      <td>1</td>\n",
       "      <td>NaN</td>\n",
       "      <td>NaN</td>\n",
       "      <td>NaN</td>\n",
       "      <td>NaN</td>\n",
       "      <td>NaN</td>\n",
       "      <td>NaN</td>\n",
       "      <td>NaN</td>\n",
       "    </tr>\n",
       "    <tr>\n",
       "      <th>Item</th>\n",
       "      <td>2652</td>\n",
       "      <td>111</td>\n",
       "      <td>Coronoa C15</td>\n",
       "      <td>304</td>\n",
       "      <td>NaN</td>\n",
       "      <td>NaN</td>\n",
       "      <td>NaN</td>\n",
       "      <td>NaN</td>\n",
       "      <td>NaN</td>\n",
       "      <td>NaN</td>\n",
       "      <td>NaN</td>\n",
       "    </tr>\n",
       "    <tr>\n",
       "      <th>Serial No.</th>\n",
       "      <td>2730</td>\n",
       "      <td>166</td>\n",
       "      <td>P010</td>\n",
       "      <td>217</td>\n",
       "      <td>NaN</td>\n",
       "      <td>NaN</td>\n",
       "      <td>NaN</td>\n",
       "      <td>NaN</td>\n",
       "      <td>NaN</td>\n",
       "      <td>NaN</td>\n",
       "      <td>NaN</td>\n",
       "    </tr>\n",
       "    <tr>\n",
       "      <th>Machine Description</th>\n",
       "      <td>2651</td>\n",
       "      <td>143</td>\n",
       "      <td>LITHOMAN 1 SN:4080518 SERIES:4065035</td>\n",
       "      <td>217</td>\n",
       "      <td>NaN</td>\n",
       "      <td>NaN</td>\n",
       "      <td>NaN</td>\n",
       "      <td>NaN</td>\n",
       "      <td>NaN</td>\n",
       "      <td>NaN</td>\n",
       "      <td>NaN</td>\n",
       "    </tr>\n",
       "    <tr>\n",
       "      <th>Call Description</th>\n",
       "      <td>2730</td>\n",
       "      <td>2479</td>\n",
       "      <td>Parts Required for Monthly PM</td>\n",
       "      <td>29</td>\n",
       "      <td>NaN</td>\n",
       "      <td>NaN</td>\n",
       "      <td>NaN</td>\n",
       "      <td>NaN</td>\n",
       "      <td>NaN</td>\n",
       "      <td>NaN</td>\n",
       "      <td>NaN</td>\n",
       "    </tr>\n",
       "    <tr>\n",
       "      <th>Solution Description</th>\n",
       "      <td>2435</td>\n",
       "      <td>2161</td>\n",
       "      <td>use parts</td>\n",
       "      <td>18</td>\n",
       "      <td>NaN</td>\n",
       "      <td>NaN</td>\n",
       "      <td>NaN</td>\n",
       "      <td>NaN</td>\n",
       "      <td>NaN</td>\n",
       "      <td>NaN</td>\n",
       "      <td>NaN</td>\n",
       "    </tr>\n",
       "    <tr>\n",
       "      <th>Call Date</th>\n",
       "      <td>2730</td>\n",
       "      <td>319</td>\n",
       "      <td>2019-07-04 00:00:00</td>\n",
       "      <td>45</td>\n",
       "      <td>NaN</td>\n",
       "      <td>NaN</td>\n",
       "      <td>NaN</td>\n",
       "      <td>NaN</td>\n",
       "      <td>NaN</td>\n",
       "      <td>NaN</td>\n",
       "      <td>NaN</td>\n",
       "    </tr>\n",
       "    <tr>\n",
       "      <th>Call Time</th>\n",
       "      <td>2730</td>\n",
       "      <td>1054</td>\n",
       "      <td>09:10:00</td>\n",
       "      <td>10</td>\n",
       "      <td>NaN</td>\n",
       "      <td>NaN</td>\n",
       "      <td>NaN</td>\n",
       "      <td>NaN</td>\n",
       "      <td>NaN</td>\n",
       "      <td>NaN</td>\n",
       "      <td>NaN</td>\n",
       "    </tr>\n",
       "    <tr>\n",
       "      <th>Downtime</th>\n",
       "      <td>2730</td>\n",
       "      <td>NaN</td>\n",
       "      <td>NaN</td>\n",
       "      <td>NaN</td>\n",
       "      <td>0.461527</td>\n",
       "      <td>3.95018</td>\n",
       "      <td>0</td>\n",
       "      <td>0</td>\n",
       "      <td>0</td>\n",
       "      <td>0</td>\n",
       "      <td>178.55</td>\n",
       "    </tr>\n",
       "    <tr>\n",
       "      <th>Spent Time</th>\n",
       "      <td>2730</td>\n",
       "      <td>NaN</td>\n",
       "      <td>NaN</td>\n",
       "      <td>NaN</td>\n",
       "      <td>1.97618</td>\n",
       "      <td>9.00457</td>\n",
       "      <td>0</td>\n",
       "      <td>0.3</td>\n",
       "      <td>0.6</td>\n",
       "      <td>2</td>\n",
       "      <td>360</td>\n",
       "    </tr>\n",
       "    <tr>\n",
       "      <th>Job Type</th>\n",
       "      <td>2719</td>\n",
       "      <td>11</td>\n",
       "      <td>MECHANICAL</td>\n",
       "      <td>1644</td>\n",
       "      <td>NaN</td>\n",
       "      <td>NaN</td>\n",
       "      <td>NaN</td>\n",
       "      <td>NaN</td>\n",
       "      <td>NaN</td>\n",
       "      <td>NaN</td>\n",
       "      <td>NaN</td>\n",
       "    </tr>\n",
       "    <tr>\n",
       "      <th>Required Activity</th>\n",
       "      <td>2730</td>\n",
       "      <td>17</td>\n",
       "      <td>DEFECT LIST ACTIVITY</td>\n",
       "      <td>1408</td>\n",
       "      <td>NaN</td>\n",
       "      <td>NaN</td>\n",
       "      <td>NaN</td>\n",
       "      <td>NaN</td>\n",
       "      <td>NaN</td>\n",
       "      <td>NaN</td>\n",
       "      <td>NaN</td>\n",
       "    </tr>\n",
       "    <tr>\n",
       "      <th>Job Priority</th>\n",
       "      <td>2534</td>\n",
       "      <td>3</td>\n",
       "      <td>HIGH</td>\n",
       "      <td>2454</td>\n",
       "      <td>NaN</td>\n",
       "      <td>NaN</td>\n",
       "      <td>NaN</td>\n",
       "      <td>NaN</td>\n",
       "      <td>NaN</td>\n",
       "      <td>NaN</td>\n",
       "      <td>NaN</td>\n",
       "    </tr>\n",
       "    <tr>\n",
       "      <th>Service Engineer</th>\n",
       "      <td>2730</td>\n",
       "      <td>20</td>\n",
       "      <td>127690</td>\n",
       "      <td>660</td>\n",
       "      <td>NaN</td>\n",
       "      <td>NaN</td>\n",
       "      <td>NaN</td>\n",
       "      <td>NaN</td>\n",
       "      <td>NaN</td>\n",
       "      <td>NaN</td>\n",
       "      <td>NaN</td>\n",
       "    </tr>\n",
       "    <tr>\n",
       "      <th>Engineer Name</th>\n",
       "      <td>2730</td>\n",
       "      <td>19</td>\n",
       "      <td>ABHILASH MUNJANATT GEORGE</td>\n",
       "      <td>660</td>\n",
       "      <td>NaN</td>\n",
       "      <td>NaN</td>\n",
       "      <td>NaN</td>\n",
       "      <td>NaN</td>\n",
       "      <td>NaN</td>\n",
       "      <td>NaN</td>\n",
       "      <td>NaN</td>\n",
       "    </tr>\n",
       "    <tr>\n",
       "      <th>Support Engineer</th>\n",
       "      <td>2730</td>\n",
       "      <td>19</td>\n",
       "      <td></td>\n",
       "      <td>1997</td>\n",
       "      <td>NaN</td>\n",
       "      <td>NaN</td>\n",
       "      <td>NaN</td>\n",
       "      <td>NaN</td>\n",
       "      <td>NaN</td>\n",
       "      <td>NaN</td>\n",
       "      <td>NaN</td>\n",
       "    </tr>\n",
       "    <tr>\n",
       "      <th>Support Enginner Name</th>\n",
       "      <td>733</td>\n",
       "      <td>16</td>\n",
       "      <td>RONALD FRANCO MARCHAN</td>\n",
       "      <td>249</td>\n",
       "      <td>NaN</td>\n",
       "      <td>NaN</td>\n",
       "      <td>NaN</td>\n",
       "      <td>NaN</td>\n",
       "      <td>NaN</td>\n",
       "      <td>NaN</td>\n",
       "      <td>NaN</td>\n",
       "    </tr>\n",
       "    <tr>\n",
       "      <th>Call Status</th>\n",
       "      <td>2730</td>\n",
       "      <td>5</td>\n",
       "      <td>Solved</td>\n",
       "      <td>1564</td>\n",
       "      <td>NaN</td>\n",
       "      <td>NaN</td>\n",
       "      <td>NaN</td>\n",
       "      <td>NaN</td>\n",
       "      <td>NaN</td>\n",
       "      <td>NaN</td>\n",
       "      <td>NaN</td>\n",
       "    </tr>\n",
       "  </tbody>\n",
       "</table>\n",
       "</div>"
      ],
      "text/plain": [
       "                      count unique                                   top  \\\n",
       "Call No.               2730   2730                             CAL016358   \n",
       "Item                   2652    111                           Coronoa C15   \n",
       "Serial No.             2730    166        P010                             \n",
       "Machine Description    2651    143  LITHOMAN 1 SN:4080518 SERIES:4065035   \n",
       "Call Description       2730   2479         Parts Required for Monthly PM   \n",
       "Solution Description   2435   2161                             use parts   \n",
       "Call Date              2730    319                   2019-07-04 00:00:00   \n",
       "Call Time              2730   1054                              09:10:00   \n",
       "Downtime               2730    NaN                                   NaN   \n",
       "Spent Time             2730    NaN                                   NaN   \n",
       "Job Type               2719     11                  MECHANICAL             \n",
       "Required Activity      2730     17        DEFECT LIST ACTIVITY             \n",
       "Job Priority           2534      3                  HIGH                   \n",
       "Service Engineer       2730     20                                127690   \n",
       "Engineer Name          2730     19   ABHILASH MUNJANATT GEORGE             \n",
       "Support Engineer       2730     19                                         \n",
       "Support Enginner Name   733     16   RONALD FRANCO MARCHAN                 \n",
       "Call Status            2730      5                                Solved   \n",
       "\n",
       "                       freq      mean      std  min  25%  50%  75%     max  \n",
       "Call No.                  1       NaN      NaN  NaN  NaN  NaN  NaN     NaN  \n",
       "Item                    304       NaN      NaN  NaN  NaN  NaN  NaN     NaN  \n",
       "Serial No.              217       NaN      NaN  NaN  NaN  NaN  NaN     NaN  \n",
       "Machine Description     217       NaN      NaN  NaN  NaN  NaN  NaN     NaN  \n",
       "Call Description         29       NaN      NaN  NaN  NaN  NaN  NaN     NaN  \n",
       "Solution Description     18       NaN      NaN  NaN  NaN  NaN  NaN     NaN  \n",
       "Call Date                45       NaN      NaN  NaN  NaN  NaN  NaN     NaN  \n",
       "Call Time                10       NaN      NaN  NaN  NaN  NaN  NaN     NaN  \n",
       "Downtime                NaN  0.461527  3.95018    0    0    0    0  178.55  \n",
       "Spent Time              NaN   1.97618  9.00457    0  0.3  0.6    2     360  \n",
       "Job Type               1644       NaN      NaN  NaN  NaN  NaN  NaN     NaN  \n",
       "Required Activity      1408       NaN      NaN  NaN  NaN  NaN  NaN     NaN  \n",
       "Job Priority           2454       NaN      NaN  NaN  NaN  NaN  NaN     NaN  \n",
       "Service Engineer        660       NaN      NaN  NaN  NaN  NaN  NaN     NaN  \n",
       "Engineer Name           660       NaN      NaN  NaN  NaN  NaN  NaN     NaN  \n",
       "Support Engineer       1997       NaN      NaN  NaN  NaN  NaN  NaN     NaN  \n",
       "Support Enginner Name   249       NaN      NaN  NaN  NaN  NaN  NaN     NaN  \n",
       "Call Status            1564       NaN      NaN  NaN  NaN  NaN  NaN     NaN  "
      ]
     },
     "execution_count": 7,
     "metadata": {},
     "output_type": "execute_result"
    }
   ],
   "source": [
    "# Understanding the fields of the dataset_2019 on the basis of statistical variables\n",
    "dataset_2019.describe(include=\"all\").T"
   ]
  },
  {
   "cell_type": "code",
   "execution_count": 8,
   "metadata": {},
   "outputs": [
    {
     "data": {
      "text/html": [
       "<div>\n",
       "<style scoped>\n",
       "    .dataframe tbody tr th:only-of-type {\n",
       "        vertical-align: middle;\n",
       "    }\n",
       "\n",
       "    .dataframe tbody tr th {\n",
       "        vertical-align: top;\n",
       "    }\n",
       "\n",
       "    .dataframe thead th {\n",
       "        text-align: right;\n",
       "    }\n",
       "</style>\n",
       "<table border=\"1\" class=\"dataframe\">\n",
       "  <thead>\n",
       "    <tr style=\"text-align: right;\">\n",
       "      <th></th>\n",
       "      <th>count</th>\n",
       "      <th>unique</th>\n",
       "      <th>top</th>\n",
       "      <th>freq</th>\n",
       "      <th>mean</th>\n",
       "      <th>std</th>\n",
       "      <th>min</th>\n",
       "      <th>25%</th>\n",
       "      <th>50%</th>\n",
       "      <th>75%</th>\n",
       "      <th>max</th>\n",
       "    </tr>\n",
       "  </thead>\n",
       "  <tbody>\n",
       "    <tr>\n",
       "      <th>Call No.</th>\n",
       "      <td>1007</td>\n",
       "      <td>1007</td>\n",
       "      <td>CAL018547</td>\n",
       "      <td>1</td>\n",
       "      <td>NaN</td>\n",
       "      <td>NaN</td>\n",
       "      <td>NaN</td>\n",
       "      <td>NaN</td>\n",
       "      <td>NaN</td>\n",
       "      <td>NaN</td>\n",
       "      <td>NaN</td>\n",
       "    </tr>\n",
       "    <tr>\n",
       "      <th>Item</th>\n",
       "      <td>984</td>\n",
       "      <td>116</td>\n",
       "      <td>LITHOMAN 2/WEB OFFSET</td>\n",
       "      <td>164</td>\n",
       "      <td>NaN</td>\n",
       "      <td>NaN</td>\n",
       "      <td>NaN</td>\n",
       "      <td>NaN</td>\n",
       "      <td>NaN</td>\n",
       "      <td>NaN</td>\n",
       "      <td>NaN</td>\n",
       "    </tr>\n",
       "    <tr>\n",
       "      <th>Serial No.</th>\n",
       "      <td>1007</td>\n",
       "      <td>118</td>\n",
       "      <td>P016</td>\n",
       "      <td>164</td>\n",
       "      <td>NaN</td>\n",
       "      <td>NaN</td>\n",
       "      <td>NaN</td>\n",
       "      <td>NaN</td>\n",
       "      <td>NaN</td>\n",
       "      <td>NaN</td>\n",
       "      <td>NaN</td>\n",
       "    </tr>\n",
       "    <tr>\n",
       "      <th>Machine Description</th>\n",
       "      <td>984</td>\n",
       "      <td>117</td>\n",
       "      <td>LITHOMAN 2/WEB OFFSET SN:4040505</td>\n",
       "      <td>164</td>\n",
       "      <td>NaN</td>\n",
       "      <td>NaN</td>\n",
       "      <td>NaN</td>\n",
       "      <td>NaN</td>\n",
       "      <td>NaN</td>\n",
       "      <td>NaN</td>\n",
       "      <td>NaN</td>\n",
       "    </tr>\n",
       "    <tr>\n",
       "      <th>Call Description</th>\n",
       "      <td>1007</td>\n",
       "      <td>943</td>\n",
       "      <td>Required PM parts</td>\n",
       "      <td>18</td>\n",
       "      <td>NaN</td>\n",
       "      <td>NaN</td>\n",
       "      <td>NaN</td>\n",
       "      <td>NaN</td>\n",
       "      <td>NaN</td>\n",
       "      <td>NaN</td>\n",
       "      <td>NaN</td>\n",
       "    </tr>\n",
       "    <tr>\n",
       "      <th>Solution Description</th>\n",
       "      <td>378</td>\n",
       "      <td>367</td>\n",
       "      <td>Done By GSD</td>\n",
       "      <td>5</td>\n",
       "      <td>NaN</td>\n",
       "      <td>NaN</td>\n",
       "      <td>NaN</td>\n",
       "      <td>NaN</td>\n",
       "      <td>NaN</td>\n",
       "      <td>NaN</td>\n",
       "      <td>NaN</td>\n",
       "    </tr>\n",
       "    <tr>\n",
       "      <th>Call Date</th>\n",
       "      <td>1007</td>\n",
       "      <td>160</td>\n",
       "      <td>28/06/2020</td>\n",
       "      <td>24</td>\n",
       "      <td>NaN</td>\n",
       "      <td>NaN</td>\n",
       "      <td>NaN</td>\n",
       "      <td>NaN</td>\n",
       "      <td>NaN</td>\n",
       "      <td>NaN</td>\n",
       "      <td>NaN</td>\n",
       "    </tr>\n",
       "    <tr>\n",
       "      <th>Call Time</th>\n",
       "      <td>1007</td>\n",
       "      <td>611</td>\n",
       "      <td>11:06:00</td>\n",
       "      <td>6</td>\n",
       "      <td>NaN</td>\n",
       "      <td>NaN</td>\n",
       "      <td>NaN</td>\n",
       "      <td>NaN</td>\n",
       "      <td>NaN</td>\n",
       "      <td>NaN</td>\n",
       "      <td>NaN</td>\n",
       "    </tr>\n",
       "    <tr>\n",
       "      <th>Downtime</th>\n",
       "      <td>1007</td>\n",
       "      <td>NaN</td>\n",
       "      <td>NaN</td>\n",
       "      <td>NaN</td>\n",
       "      <td>0.0898908</td>\n",
       "      <td>0.670451</td>\n",
       "      <td>0</td>\n",
       "      <td>0</td>\n",
       "      <td>0</td>\n",
       "      <td>0</td>\n",
       "      <td>16</td>\n",
       "    </tr>\n",
       "    <tr>\n",
       "      <th>Spent Time</th>\n",
       "      <td>1007</td>\n",
       "      <td>NaN</td>\n",
       "      <td>NaN</td>\n",
       "      <td>NaN</td>\n",
       "      <td>0.998461</td>\n",
       "      <td>2.28679</td>\n",
       "      <td>0</td>\n",
       "      <td>0</td>\n",
       "      <td>0.5</td>\n",
       "      <td>1</td>\n",
       "      <td>45</td>\n",
       "    </tr>\n",
       "    <tr>\n",
       "      <th>Job Type</th>\n",
       "      <td>1003</td>\n",
       "      <td>9</td>\n",
       "      <td>MECHANICAL</td>\n",
       "      <td>547</td>\n",
       "      <td>NaN</td>\n",
       "      <td>NaN</td>\n",
       "      <td>NaN</td>\n",
       "      <td>NaN</td>\n",
       "      <td>NaN</td>\n",
       "      <td>NaN</td>\n",
       "      <td>NaN</td>\n",
       "    </tr>\n",
       "    <tr>\n",
       "      <th>Required Activity</th>\n",
       "      <td>1007</td>\n",
       "      <td>14</td>\n",
       "      <td>DEFECT LIST ACTIVITY</td>\n",
       "      <td>457</td>\n",
       "      <td>NaN</td>\n",
       "      <td>NaN</td>\n",
       "      <td>NaN</td>\n",
       "      <td>NaN</td>\n",
       "      <td>NaN</td>\n",
       "      <td>NaN</td>\n",
       "      <td>NaN</td>\n",
       "    </tr>\n",
       "    <tr>\n",
       "      <th>Job Priority</th>\n",
       "      <td>972</td>\n",
       "      <td>2</td>\n",
       "      <td>HIGH</td>\n",
       "      <td>963</td>\n",
       "      <td>NaN</td>\n",
       "      <td>NaN</td>\n",
       "      <td>NaN</td>\n",
       "      <td>NaN</td>\n",
       "      <td>NaN</td>\n",
       "      <td>NaN</td>\n",
       "      <td>NaN</td>\n",
       "    </tr>\n",
       "    <tr>\n",
       "      <th>Service Engineer</th>\n",
       "      <td>1007</td>\n",
       "      <td>17</td>\n",
       "      <td>127946</td>\n",
       "      <td>236</td>\n",
       "      <td>NaN</td>\n",
       "      <td>NaN</td>\n",
       "      <td>NaN</td>\n",
       "      <td>NaN</td>\n",
       "      <td>NaN</td>\n",
       "      <td>NaN</td>\n",
       "      <td>NaN</td>\n",
       "    </tr>\n",
       "    <tr>\n",
       "      <th>Engineer Name</th>\n",
       "      <td>1007</td>\n",
       "      <td>16</td>\n",
       "      <td>ALAN O CERENEO</td>\n",
       "      <td>236</td>\n",
       "      <td>NaN</td>\n",
       "      <td>NaN</td>\n",
       "      <td>NaN</td>\n",
       "      <td>NaN</td>\n",
       "      <td>NaN</td>\n",
       "      <td>NaN</td>\n",
       "      <td>NaN</td>\n",
       "    </tr>\n",
       "    <tr>\n",
       "      <th>Support Engineer</th>\n",
       "      <td>1007</td>\n",
       "      <td>13</td>\n",
       "      <td></td>\n",
       "      <td>824</td>\n",
       "      <td>NaN</td>\n",
       "      <td>NaN</td>\n",
       "      <td>NaN</td>\n",
       "      <td>NaN</td>\n",
       "      <td>NaN</td>\n",
       "      <td>NaN</td>\n",
       "      <td>NaN</td>\n",
       "    </tr>\n",
       "    <tr>\n",
       "      <th>Support Enginner Name</th>\n",
       "      <td>183</td>\n",
       "      <td>11</td>\n",
       "      <td>ALAN O CERENEO</td>\n",
       "      <td>49</td>\n",
       "      <td>NaN</td>\n",
       "      <td>NaN</td>\n",
       "      <td>NaN</td>\n",
       "      <td>NaN</td>\n",
       "      <td>NaN</td>\n",
       "      <td>NaN</td>\n",
       "      <td>NaN</td>\n",
       "    </tr>\n",
       "    <tr>\n",
       "      <th>Call Status</th>\n",
       "      <td>1007</td>\n",
       "      <td>4</td>\n",
       "      <td>Solved</td>\n",
       "      <td>844</td>\n",
       "      <td>NaN</td>\n",
       "      <td>NaN</td>\n",
       "      <td>NaN</td>\n",
       "      <td>NaN</td>\n",
       "      <td>NaN</td>\n",
       "      <td>NaN</td>\n",
       "      <td>NaN</td>\n",
       "    </tr>\n",
       "  </tbody>\n",
       "</table>\n",
       "</div>"
      ],
      "text/plain": [
       "                      count unique                                  top freq  \\\n",
       "Call No.               1007   1007                            CAL018547    1   \n",
       "Item                    984    116                LITHOMAN 2/WEB OFFSET  164   \n",
       "Serial No.             1007    118       P016                            164   \n",
       "Machine Description     984    117     LITHOMAN 2/WEB OFFSET SN:4040505  164   \n",
       "Call Description       1007    943                    Required PM parts   18   \n",
       "Solution Description    378    367                          Done By GSD    5   \n",
       "Call Date              1007    160                           28/06/2020   24   \n",
       "Call Time              1007    611                             11:06:00    6   \n",
       "Downtime               1007    NaN                                  NaN  NaN   \n",
       "Spent Time             1007    NaN                                  NaN  NaN   \n",
       "Job Type               1003      9                 MECHANICAL            547   \n",
       "Required Activity      1007     14       DEFECT LIST ACTIVITY            457   \n",
       "Job Priority            972      2                 HIGH                  963   \n",
       "Service Engineer       1007     17                               127946  236   \n",
       "Engineer Name          1007     16  ALAN O CERENEO                       236   \n",
       "Support Engineer       1007     13                                       824   \n",
       "Support Enginner Name   183     11  ALAN O CERENEO                        49   \n",
       "Call Status            1007      4                               Solved  844   \n",
       "\n",
       "                            mean       std  min  25%  50%  75%  max  \n",
       "Call No.                     NaN       NaN  NaN  NaN  NaN  NaN  NaN  \n",
       "Item                         NaN       NaN  NaN  NaN  NaN  NaN  NaN  \n",
       "Serial No.                   NaN       NaN  NaN  NaN  NaN  NaN  NaN  \n",
       "Machine Description          NaN       NaN  NaN  NaN  NaN  NaN  NaN  \n",
       "Call Description             NaN       NaN  NaN  NaN  NaN  NaN  NaN  \n",
       "Solution Description         NaN       NaN  NaN  NaN  NaN  NaN  NaN  \n",
       "Call Date                    NaN       NaN  NaN  NaN  NaN  NaN  NaN  \n",
       "Call Time                    NaN       NaN  NaN  NaN  NaN  NaN  NaN  \n",
       "Downtime               0.0898908  0.670451    0    0    0    0   16  \n",
       "Spent Time              0.998461   2.28679    0    0  0.5    1   45  \n",
       "Job Type                     NaN       NaN  NaN  NaN  NaN  NaN  NaN  \n",
       "Required Activity            NaN       NaN  NaN  NaN  NaN  NaN  NaN  \n",
       "Job Priority                 NaN       NaN  NaN  NaN  NaN  NaN  NaN  \n",
       "Service Engineer             NaN       NaN  NaN  NaN  NaN  NaN  NaN  \n",
       "Engineer Name                NaN       NaN  NaN  NaN  NaN  NaN  NaN  \n",
       "Support Engineer             NaN       NaN  NaN  NaN  NaN  NaN  NaN  \n",
       "Support Enginner Name        NaN       NaN  NaN  NaN  NaN  NaN  NaN  \n",
       "Call Status                  NaN       NaN  NaN  NaN  NaN  NaN  NaN  "
      ]
     },
     "execution_count": 8,
     "metadata": {},
     "output_type": "execute_result"
    }
   ],
   "source": [
    "# Understanding the fields of the dataset_2020 on the basis of statistical variables\n",
    "dataset_2020.describe(include=\"all\").T"
   ]
  },
  {
   "cell_type": "markdown",
   "metadata": {},
   "source": [
    "## Comparing 2019 with 2020 Calls Management Reporting Details\n",
    "\n",
    "Now using different parameters that we have observed above we will be comparing our reports and highlighting the facts.\n",
    "\n",
    "## Parameter: Class Status of Service Calls"
   ]
  },
  {
   "cell_type": "code",
   "execution_count": 9,
   "metadata": {
    "scrolled": true
   },
   "outputs": [
    {
     "name": "stdout",
     "output_type": "stream",
     "text": [
      "\n",
      "Call Status with Number of Service Calls in 2019\n"
     ]
    },
    {
     "data": {
      "text/plain": [
       "Solved         1564\n",
       "Accepted       1116\n",
       "Registered       28\n",
       "Transferred      21\n",
       "Assigned          1\n",
       "Name: Call Status, dtype: int64"
      ]
     },
     "execution_count": 9,
     "metadata": {},
     "output_type": "execute_result"
    }
   ],
   "source": [
    "# finding out all types of call status in 2019 Service Calls\n",
    "print(\"\\nCall Status with Number of Service Calls in 2019\")\n",
    "dataset_2019['Call Status'].value_counts()"
   ]
  },
  {
   "cell_type": "markdown",
   "metadata": {},
   "source": [
    "By this we know that, out of **2730** calls, we have **1564** Solved Calls, **1116** Accepted Calls, **28** Registered Calls, **21** Transfered Calls and **1** Assigned Calls. "
   ]
  },
  {
   "cell_type": "code",
   "execution_count": 10,
   "metadata": {},
   "outputs": [
    {
     "name": "stdout",
     "output_type": "stream",
     "text": [
      "\n",
      "Call Status with Number of Service Calls (Ratio) in 2019\n"
     ]
    },
    {
     "data": {
      "text/html": [
       "<div>\n",
       "<style scoped>\n",
       "    .dataframe tbody tr th:only-of-type {\n",
       "        vertical-align: middle;\n",
       "    }\n",
       "\n",
       "    .dataframe tbody tr th {\n",
       "        vertical-align: top;\n",
       "    }\n",
       "\n",
       "    .dataframe thead th {\n",
       "        text-align: right;\n",
       "    }\n",
       "</style>\n",
       "<table border=\"1\" class=\"dataframe\">\n",
       "  <thead>\n",
       "    <tr style=\"text-align: right;\">\n",
       "      <th></th>\n",
       "      <th>Types of Calls</th>\n",
       "      <th>Ratio of Calls</th>\n",
       "    </tr>\n",
       "  </thead>\n",
       "  <tbody>\n",
       "    <tr>\n",
       "      <th>0</th>\n",
       "      <td>Solved</td>\n",
       "      <td>57.289377</td>\n",
       "    </tr>\n",
       "    <tr>\n",
       "      <th>1</th>\n",
       "      <td>Accepted</td>\n",
       "      <td>40.879121</td>\n",
       "    </tr>\n",
       "    <tr>\n",
       "      <th>2</th>\n",
       "      <td>Registered</td>\n",
       "      <td>1.025641</td>\n",
       "    </tr>\n",
       "    <tr>\n",
       "      <th>3</th>\n",
       "      <td>Transfered</td>\n",
       "      <td>0.769231</td>\n",
       "    </tr>\n",
       "    <tr>\n",
       "      <th>4</th>\n",
       "      <td>Assigned</td>\n",
       "      <td>0.036630</td>\n",
       "    </tr>\n",
       "  </tbody>\n",
       "</table>\n",
       "</div>"
      ],
      "text/plain": [
       "  Types of Calls  Ratio of Calls\n",
       "0         Solved       57.289377\n",
       "1       Accepted       40.879121\n",
       "2     Registered        1.025641\n",
       "3     Transfered        0.769231\n",
       "4       Assigned        0.036630"
      ]
     },
     "execution_count": 10,
     "metadata": {},
     "output_type": "execute_result"
    }
   ],
   "source": [
    "solved_ratio = 1564/n_calls_2019 *100\n",
    "accepted_ratio = 1116/n_calls_2019 *100\n",
    "registered_ratio = 28/n_calls_2019 *100\n",
    "transferred_ratio = 21/n_calls_2019 *100\n",
    "assigned_ratio = 1/n_calls_2019 *100\n",
    "\n",
    "\n",
    "labels = ['Solved', 'Accepted', 'Registered', 'Transfered', 'Assigned']\n",
    "values = [solved_ratio, accepted_ratio, registered_ratio, transferred_ratio, assigned_ratio]\n",
    "\n",
    "data_dict = { 'Types of Calls': labels, 'Ratio of Calls': values }\n",
    "\n",
    "Ratio_Call_Status = pd.DataFrame(data_dict)\n",
    "print(\"\\nCall Status with Number of Service Calls (Ratio) in 2019\")\n",
    "Ratio_Call_Status"
   ]
  },
  {
   "cell_type": "code",
   "execution_count": 11,
   "metadata": {},
   "outputs": [
    {
     "data": {
      "image/png": "[encoded data removed]",
      "text/plain": [
       "<Figure size 1008x504 with 1 Axes>"
      ]
     },
     "metadata": {},
     "output_type": "display_data"
    }
   ],
   "source": [
    "# data to plot\n",
    "labels= ['Solved', 'Accepted', 'Others']\n",
    "values = [solved_ratio, accepted_ratio, registered_ratio+ transferred_ratio+ assigned_ratio]\n",
    "colors = ['lightgreen', 'lightskyblue', 'lightcoral']\n",
    "\n",
    "# explode 1st slice\n",
    "explode = (0.1, 0.1, 0)\n",
    "\n",
    "fig, axs = plt.subplots(figsize=(14, 7))\n",
    "plt.pie(values, explode=explode, labels=labels, colors=colors,\n",
    "autopct='%1.1f%%', startangle=140)\n",
    "\n",
    "plt.axis('equal')\n",
    "plt.title('Call Status with Number of Service Calls (Ratio) in 2019')\n",
    "plt.show()"
   ]
  },
  {
   "cell_type": "code",
   "execution_count": 12,
   "metadata": {
    "scrolled": true
   },
   "outputs": [
    {
     "name": "stdout",
     "output_type": "stream",
     "text": [
      "\n",
      "Call Status with Number of Service Calls in 2020\n"
     ]
    },
    {
     "data": {
      "text/plain": [
       "Solved         844\n",
       "Transferred    135\n",
       "Registered      25\n",
       "Assigned         3\n",
       "Name: Call Status, dtype: int64"
      ]
     },
     "execution_count": 12,
     "metadata": {},
     "output_type": "execute_result"
    }
   ],
   "source": [
    "# finding out all types of call status in 2020 Service Calls\n",
    "print(\"\\nCall Status with Number of Service Calls in 2020\")\n",
    "dataset_2020['Call Status'].value_counts()"
   ]
  },
  {
   "cell_type": "markdown",
   "metadata": {},
   "source": [
    "By this we know that, out of **1007** calls, we have **844** Solved Calls, **25** Registered Calls, **135** Transfered Calls and **3** Assigned Calls. "
   ]
  },
  {
   "cell_type": "code",
   "execution_count": 13,
   "metadata": {},
   "outputs": [
    {
     "name": "stdout",
     "output_type": "stream",
     "text": [
      "\n",
      "Call Status with Number of Service Calls (Ratio) in 2020\n"
     ]
    },
    {
     "data": {
      "text/html": [
       "<div>\n",
       "<style scoped>\n",
       "    .dataframe tbody tr th:only-of-type {\n",
       "        vertical-align: middle;\n",
       "    }\n",
       "\n",
       "    .dataframe tbody tr th {\n",
       "        vertical-align: top;\n",
       "    }\n",
       "\n",
       "    .dataframe thead th {\n",
       "        text-align: right;\n",
       "    }\n",
       "</style>\n",
       "<table border=\"1\" class=\"dataframe\">\n",
       "  <thead>\n",
       "    <tr style=\"text-align: right;\">\n",
       "      <th></th>\n",
       "      <th>Types of Calls</th>\n",
       "      <th>Ratio of Calls</th>\n",
       "    </tr>\n",
       "  </thead>\n",
       "  <tbody>\n",
       "    <tr>\n",
       "      <th>0</th>\n",
       "      <td>Solved</td>\n",
       "      <td>83.813307</td>\n",
       "    </tr>\n",
       "    <tr>\n",
       "      <th>1</th>\n",
       "      <td>Accepted</td>\n",
       "      <td>0.000000</td>\n",
       "    </tr>\n",
       "    <tr>\n",
       "      <th>2</th>\n",
       "      <td>Registered</td>\n",
       "      <td>2.482622</td>\n",
       "    </tr>\n",
       "    <tr>\n",
       "      <th>3</th>\n",
       "      <td>Transfered</td>\n",
       "      <td>13.406157</td>\n",
       "    </tr>\n",
       "    <tr>\n",
       "      <th>4</th>\n",
       "      <td>Assigned</td>\n",
       "      <td>0.297915</td>\n",
       "    </tr>\n",
       "  </tbody>\n",
       "</table>\n",
       "</div>"
      ],
      "text/plain": [
       "  Types of Calls  Ratio of Calls\n",
       "0         Solved       83.813307\n",
       "1       Accepted        0.000000\n",
       "2     Registered        2.482622\n",
       "3     Transfered       13.406157\n",
       "4       Assigned        0.297915"
      ]
     },
     "execution_count": 13,
     "metadata": {},
     "output_type": "execute_result"
    }
   ],
   "source": [
    "solved_ratio = 844/n_calls_2020 *100\n",
    "accepted_ratio = 0/n_calls_2020 *100\n",
    "registered_ratio = 25/n_calls_2020 *100\n",
    "transferred_ratio = 135/n_calls_2020 *100\n",
    "assigned_ratio = 3/n_calls_2020 *100\n",
    "\n",
    "\n",
    "labels = ['Solved', 'Accepted', 'Registered', 'Transfered', 'Assigned']\n",
    "values = [solved_ratio, accepted_ratio, registered_ratio, transferred_ratio, assigned_ratio]\n",
    "\n",
    "data_dict = { 'Types of Calls': labels, 'Ratio of Calls': values }\n",
    "\n",
    "Ratio_Call_Status = pd.DataFrame(data_dict)\n",
    "print(\"\\nCall Status with Number of Service Calls (Ratio) in 2020\")\n",
    "Ratio_Call_Status"
   ]
  },
  {
   "cell_type": "code",
   "execution_count": 14,
   "metadata": {},
   "outputs": [
    {
     "data": {
      "image/png": "[encoded data removed]",
      "text/plain": [
       "<Figure size 1008x504 with 1 Axes>"
      ]
     },
     "metadata": {},
     "output_type": "display_data"
    }
   ],
   "source": [
    "# data to plot\n",
    "labels= ['Solved', 'Transfered', 'Others']\n",
    "values = [solved_ratio, transferred_ratio, accepted_ratio+ registered_ratio+ assigned_ratio]\n",
    "colors = ['lightgreen', 'lightskyblue', 'lightcoral']\n",
    "\n",
    "# explode 1st slice\n",
    "explode = (0.1, 0.1, 0.1)\n",
    "\n",
    "fig, axs = plt.subplots(figsize=(14, 7))\n",
    "plt.pie(values, explode=explode, labels=labels, colors=colors,\n",
    "autopct='%1.1f%%', startangle=140)\n",
    "\n",
    "plt.axis('equal')\n",
    "plt.title('Call Status with Number of Service Calls (Ratio) in 2020')\n",
    "plt.show()"
   ]
  },
  {
   "cell_type": "markdown",
   "metadata": {},
   "source": [
    "## HIGHLIGHTING FACTS CALLS STATUS IN 2019 AND 2020 SERVICE CALLS\n",
    "\n",
    "- The ratio of solved calls in 2019 was **57.289%** and it was later significantly increased to **83.813%** in 2020.\n",
    "- The ratio of transferred call in 2019 was **0.769%** which was increased to **13.406%** in 2020.\n",
    "- The ratio of registered and assigned calls in both years have been fluctauted minorly. \n",
    "- In 2020, there are **0** accepted calls reported, whereas **40.879%** of accepted calls were reported in 2019."
   ]
  },
  {
   "cell_type": "markdown",
   "metadata": {},
   "source": [
    "## Parameter: Job Priority of Service Calls"
   ]
  },
  {
   "cell_type": "code",
   "execution_count": 15,
   "metadata": {
    "scrolled": true
   },
   "outputs": [
    {
     "name": "stdout",
     "output_type": "stream",
     "text": [
      "\n",
      "Job Priority with Number of Service Calls in 2019\n"
     ]
    },
    {
     "data": {
      "text/plain": [
       "HIGH                    2454\n",
       "MEDIUM                    76\n",
       "LOW                        4\n",
       "Name: Job Priority, dtype: int64"
      ]
     },
     "execution_count": 15,
     "metadata": {},
     "output_type": "execute_result"
    }
   ],
   "source": [
    "# finding out all types of job priorities in 2019 Service Calls\n",
    "print(\"\\nJob Priority with Number of Service Calls in 2019\")\n",
    "dataset_2019['Job Priority'].value_counts()"
   ]
  },
  {
   "cell_type": "markdown",
   "metadata": {},
   "source": [
    "By this we know that, out of **2534** calls, we have **2454** HIGH Job Priority Calls, **76** MEDIUM Job Priority Calls and **4** LOW Job Priority Calls.\n",
    "\n",
    "**196** Priorities for calls are missing in the report."
   ]
  },
  {
   "cell_type": "code",
   "execution_count": 16,
   "metadata": {
    "scrolled": false
   },
   "outputs": [
    {
     "name": "stdout",
     "output_type": "stream",
     "text": [
      "Number of HIGH Job Priority Calls that were Solved : 1342\n",
      "Number of MEDIUM Job Priority Calls that were Solved : 42\n",
      "Number of LOW Job Priority Calls that were Solved : 4\n"
     ]
    }
   ],
   "source": [
    "#finding out number of HIGH Job Priority Calls that were solved\n",
    "df = dataset_2019[[\"Call No.\",\"Job Priority\", \"Call Status\"]]\n",
    "\n",
    "df = df[(df['Job Priority'] == 'HIGH                ') & (df['Call Status'] == 'Solved') ]\n",
    "\n",
    "r,c = df.shape\n",
    "print(\"Number of HIGH Job Priority Calls that were Solved : {}\".format(r))\n",
    "\n",
    "#finding out number of MEDIUM Job Priority Calls that were solved\n",
    "df = dataset_2019[[\"Call No.\",\"Job Priority\", \"Call Status\"]]\n",
    "\n",
    "df = df[(df['Job Priority'] == 'MEDIUM              ') & (df['Call Status'] == 'Solved') ]\n",
    "\n",
    "r,c = df.shape\n",
    "print(\"Number of MEDIUM Job Priority Calls that were Solved : {}\".format(r))\n",
    "\n",
    "#finding out number of LOW Job Priority Calls that were solved\n",
    "df = dataset_2019[[\"Call No.\",\"Job Priority\", \"Call Status\"]]\n",
    "\n",
    "df = df[(df['Job Priority'] == 'LOW                 ') & (df['Call Status'] == 'Solved') ]\n",
    "\n",
    "r,c = df.shape\n",
    "print(\"Number of LOW Job Priority Calls that were Solved : {}\".format(r))"
   ]
  },
  {
   "cell_type": "code",
   "execution_count": 17,
   "metadata": {},
   "outputs": [
    {
     "name": "stdout",
     "output_type": "stream",
     "text": [
      "\n",
      "Call Status with Number of Service Calls (Ratio) in 2019\n"
     ]
    },
    {
     "data": {
      "text/html": [
       "<div>\n",
       "<style scoped>\n",
       "    .dataframe tbody tr th:only-of-type {\n",
       "        vertical-align: middle;\n",
       "    }\n",
       "\n",
       "    .dataframe tbody tr th {\n",
       "        vertical-align: top;\n",
       "    }\n",
       "\n",
       "    .dataframe thead th {\n",
       "        text-align: right;\n",
       "    }\n",
       "</style>\n",
       "<table border=\"1\" class=\"dataframe\">\n",
       "  <thead>\n",
       "    <tr style=\"text-align: right;\">\n",
       "      <th></th>\n",
       "      <th>Types of Calls</th>\n",
       "      <th>Ratio of Calls</th>\n",
       "    </tr>\n",
       "  </thead>\n",
       "  <tbody>\n",
       "    <tr>\n",
       "      <th>0</th>\n",
       "      <td>High Priority Jobs Solved</td>\n",
       "      <td>54.686227</td>\n",
       "    </tr>\n",
       "    <tr>\n",
       "      <th>1</th>\n",
       "      <td>Medium Priority Jobs Solved</td>\n",
       "      <td>55.263158</td>\n",
       "    </tr>\n",
       "    <tr>\n",
       "      <th>2</th>\n",
       "      <td>Low Priority Jobs Solved</td>\n",
       "      <td>100.000000</td>\n",
       "    </tr>\n",
       "  </tbody>\n",
       "</table>\n",
       "</div>"
      ],
      "text/plain": [
       "                Types of Calls  Ratio of Calls\n",
       "0    High Priority Jobs Solved       54.686227\n",
       "1  Medium Priority Jobs Solved       55.263158\n",
       "2     Low Priority Jobs Solved      100.000000"
      ]
     },
     "execution_count": 17,
     "metadata": {},
     "output_type": "execute_result"
    }
   ],
   "source": [
    "high_ratio = 1342/2454 *100\n",
    "med_ratio = 42/76 *100\n",
    "low_ratio = 4/4 *100\n",
    "\n",
    "labels = ['High Priority Jobs Solved', 'Medium Priority Jobs Solved', 'Low Priority Jobs Solved']\n",
    "values = [high_ratio, med_ratio, low_ratio]\n",
    "\n",
    "data_dict = { 'Types of Calls': labels, 'Ratio of Calls': values }\n",
    "\n",
    "Ratio_Call_Status = pd.DataFrame(data_dict)\n",
    "print(\"\\nCall Status with Number of Service Calls (Ratio) in 2019\")\n",
    "Ratio_Call_Status"
   ]
  },
  {
   "cell_type": "code",
   "execution_count": 18,
   "metadata": {
    "scrolled": true
   },
   "outputs": [
    {
     "name": "stdout",
     "output_type": "stream",
     "text": [
      "\n",
      "Job Priority with Number of Service Calls in 2020\n"
     ]
    },
    {
     "data": {
      "text/plain": [
       "HIGH                    963\n",
       "MEDIUM                    9\n",
       "Name: Job Priority, dtype: int64"
      ]
     },
     "execution_count": 18,
     "metadata": {},
     "output_type": "execute_result"
    }
   ],
   "source": [
    "# finding out all types of job priorities in 2020 Service Calls\n",
    "print(\"\\nJob Priority with Number of Service Calls in 2020\")\n",
    "dataset_2020['Job Priority'].value_counts()"
   ]
  },
  {
   "cell_type": "markdown",
   "metadata": {},
   "source": [
    "By this we know that, out of **1007** calls, we have **963** HIGH Job Priority Calls and **9** LOW Job Priority Calls.\n",
    "\n",
    "**35** Priorities for calls are missing in the report."
   ]
  },
  {
   "cell_type": "code",
   "execution_count": 19,
   "metadata": {
    "scrolled": false
   },
   "outputs": [
    {
     "name": "stdout",
     "output_type": "stream",
     "text": [
      "Number of HIGH Job Priority Calls that were Solved : 805\n",
      "Number of MEDIUM Job Priority Calls that were Solved : 8\n"
     ]
    }
   ],
   "source": [
    "#finding out number of HIGH Job Priority Calls that were solved\n",
    "df = dataset_2020[[\"Call No.\",\"Job Priority\", \"Call Status\"]]\n",
    "\n",
    "df = df[(df['Job Priority'] == 'HIGH                ') & (df['Call Status'] == 'Solved') ]\n",
    "\n",
    "r,c = df.shape\n",
    "print(\"Number of HIGH Job Priority Calls that were Solved : {}\".format(r))\n",
    "\n",
    "#finding out number of MEDIUM Job Priority Calls that were solved\n",
    "df = dataset_2020[[\"Call No.\",\"Job Priority\", \"Call Status\"]]\n",
    "\n",
    "df = df[(df['Job Priority'] == 'MEDIUM              ') & (df['Call Status'] == 'Solved') ]\n",
    "\n",
    "r,c = df.shape\n",
    "print(\"Number of MEDIUM Job Priority Calls that were Solved : {}\".format(r))"
   ]
  },
  {
   "cell_type": "code",
   "execution_count": 20,
   "metadata": {},
   "outputs": [
    {
     "name": "stdout",
     "output_type": "stream",
     "text": [
      "\n",
      "Call Status with Number of Service Calls (Ratio) in 2020\n"
     ]
    },
    {
     "data": {
      "text/html": [
       "<div>\n",
       "<style scoped>\n",
       "    .dataframe tbody tr th:only-of-type {\n",
       "        vertical-align: middle;\n",
       "    }\n",
       "\n",
       "    .dataframe tbody tr th {\n",
       "        vertical-align: top;\n",
       "    }\n",
       "\n",
       "    .dataframe thead th {\n",
       "        text-align: right;\n",
       "    }\n",
       "</style>\n",
       "<table border=\"1\" class=\"dataframe\">\n",
       "  <thead>\n",
       "    <tr style=\"text-align: right;\">\n",
       "      <th></th>\n",
       "      <th>Types of Calls</th>\n",
       "      <th>Ratio of Calls</th>\n",
       "    </tr>\n",
       "  </thead>\n",
       "  <tbody>\n",
       "    <tr>\n",
       "      <th>0</th>\n",
       "      <td>High Priority Jobs Solved</td>\n",
       "      <td>83.592939</td>\n",
       "    </tr>\n",
       "    <tr>\n",
       "      <th>1</th>\n",
       "      <td>Medium Priority Jobs Solved</td>\n",
       "      <td>88.888889</td>\n",
       "    </tr>\n",
       "  </tbody>\n",
       "</table>\n",
       "</div>"
      ],
      "text/plain": [
       "                Types of Calls  Ratio of Calls\n",
       "0    High Priority Jobs Solved       83.592939\n",
       "1  Medium Priority Jobs Solved       88.888889"
      ]
     },
     "execution_count": 20,
     "metadata": {},
     "output_type": "execute_result"
    }
   ],
   "source": [
    "high_ratio = 805/963 *100\n",
    "med_ratio = 8/9 *100\n",
    "\n",
    "labels = ['High Priority Jobs Solved', 'Medium Priority Jobs Solved']\n",
    "values = [high_ratio, med_ratio]\n",
    "\n",
    "data_dict = { 'Types of Calls': labels, 'Ratio of Calls': values }\n",
    "\n",
    "Ratio_Call_Status = pd.DataFrame(data_dict)\n",
    "print(\"\\nCall Status with Number of Service Calls (Ratio) in 2020\")\n",
    "Ratio_Call_Status"
   ]
  },
  {
   "cell_type": "markdown",
   "metadata": {},
   "source": [
    "## HIGHLIGHTING FACTS CALLS STATUS AND JOB PRIORITY IN 2019 AND 2020 SERVICE CALLS\n",
    "\n",
    "- The ratio of high priority calls that are solved in 2019 was **54.686%** and it was later significantly increased to **83.592%** in 2020.\n",
    "- The ratio of high priority calls that are solved in 2019 was **55.263%** and it was later significantly increased to **88.888%** in 2020.\n",
    "- In 2020, there are **0** Low Priority calls that were reported."
   ]
  },
  {
   "cell_type": "markdown",
   "metadata": {},
   "source": [
    "## Parameter: Downtime of Service Calls"
   ]
  },
  {
   "cell_type": "code",
   "execution_count": 21,
   "metadata": {},
   "outputs": [
    {
     "name": "stdout",
     "output_type": "stream",
     "text": [
      "Number of Service Calls in 2019 that suffered downtime : 531 / 2730\n",
      "Ratio of Number of Service Calls in 2019 that suffered downtime : 19.450549450549453 %\n"
     ]
    }
   ],
   "source": [
    "# finding number of calls in 2019 that suffered downtime \n",
    "df = dataset_2019[dataset_2019['Downtime'] > 0.0]\n",
    "r, c = df.shape\n",
    "print(\"Number of Service Calls in 2019 that suffered downtime : {} / 2730\".format(r))\n",
    "print(\"Ratio of Number of Service Calls in 2019 that suffered downtime : {} %\".format(r/2730*100))"
   ]
  },
  {
   "cell_type": "code",
   "execution_count": 22,
   "metadata": {
    "scrolled": true
   },
   "outputs": [
    {
     "name": "stdout",
     "output_type": "stream",
     "text": [
      "Maximum Downtime Value in Service Calls of 2019 : 178.55 \n",
      "Minimum Downtime Value in Service Calls of 2019 : 0.0 \n",
      "Average of Downtime Values in Service Calls of 2019 : 0.4615274725274727 \n",
      "Variance of Downtime Values in Service Calls of 2019 : 15.598190890270812 \n",
      "Most Frequent of Downtime Values in Service Calls of 2019 : 0.0 \n",
      "Most Frequent of Downtime Values in Service Calls of 2019 (After 0): 0.5 \n"
     ]
    }
   ],
   "source": [
    "print(\"Maximum Downtime Value in Service Calls of 2019 : {} \".format(np.max(dataset_2019['Downtime'])))\n",
    "print(\"Minimum Downtime Value in Service Calls of 2019 : {} \".format(np.min(dataset_2019['Downtime'])))\n",
    "print(\"Average of Downtime Values in Service Calls of 2019 : {} \".format(np.mean(dataset_2019['Downtime'])))\n",
    "print(\"Variance of Downtime Values in Service Calls of 2019 : {} \".format(np.var(dataset_2019['Downtime'])))\n",
    "print(\"Most Frequent of Downtime Values in Service Calls of 2019 : {} \".format(dataset_2019['Downtime'].value_counts().index.tolist()[:1][0]))\n",
    "print(\"Most Frequent of Downtime Values in Service Calls of 2019 (After 0): {} \".format(dataset_2019['Downtime'].value_counts().index.tolist()[:2][1]))"
   ]
  },
  {
   "cell_type": "code",
   "execution_count": 23,
   "metadata": {},
   "outputs": [
    {
     "name": "stdout",
     "output_type": "stream",
     "text": [
      "Number of Service Calls in 2020 that suffered downtime : 60 / 1007\n",
      "Ratio of Number of Service Calls in 2019 that suffered downtime : 5.958291956305859 %\n"
     ]
    }
   ],
   "source": [
    "# finding number of calls in 2020 that suffered downtime \n",
    "df = dataset_2020[dataset_2020['Downtime'] > 0.0]\n",
    "r, c = df.shape\n",
    "print(\"Number of Service Calls in 2020 that suffered downtime : {} / 1007\".format(r))\n",
    "print(\"Ratio of Number of Service Calls in 2019 that suffered downtime : {} %\".format(r/1007*100))"
   ]
  },
  {
   "cell_type": "code",
   "execution_count": 24,
   "metadata": {
    "scrolled": false
   },
   "outputs": [
    {
     "name": "stdout",
     "output_type": "stream",
     "text": [
      "Maximum Downtime Value in Service Calls of 2020 : 16.0 \n",
      "Minimum Downtime Value in Service Calls of 2020 : 0.0 \n",
      "Average of Downtime Values in Service Calls of 2020 : 0.08989076464746773 \n",
      "Variance of Downtime Values in Service Calls of 2020 : 0.4490578828044773 \n",
      "Most Frequent of Downtime Values in Service Calls of 2020 : 0.0 \n",
      "Most Frequent of Downtime Values in Service Calls of 2020 (After 0): 0.75 \n"
     ]
    }
   ],
   "source": [
    "print(\"Maximum Downtime Value in Service Calls of 2020 : {} \".format(np.max(dataset_2020['Downtime'])))\n",
    "print(\"Minimum Downtime Value in Service Calls of 2020 : {} \".format(np.min(dataset_2020['Downtime'])))\n",
    "print(\"Average of Downtime Values in Service Calls of 2020 : {} \".format(np.mean(dataset_2020['Downtime'])))\n",
    "print(\"Variance of Downtime Values in Service Calls of 2020 : {} \".format(np.var(dataset_2020['Downtime'])))\n",
    "print(\"Most Frequent of Downtime Values in Service Calls of 2020 : {} \".format(dataset_2020['Downtime'].value_counts().index.tolist()[:1][0]))\n",
    "print(\"Most Frequent of Downtime Values in Service Calls of 2020 (After 0): {} \".format(dataset_2020['Downtime'].value_counts().index.tolist()[:2][1]))"
   ]
  },
  {
   "cell_type": "markdown",
   "metadata": {},
   "source": [
    "## HIGHLIGHTING FACTS OF DOWNTIME OF CALLS IN 2019 AND 2020 SERVICE CALLS\n",
    "\n",
    "- The ratio of number of service calls that suffered downtime in 2019 was **19.450%** and it was later drastically decreased to **5.958%** in 2020.\n",
    "- The maximum downtime value of 2019 has reached to **178.55**, whereas the maximum downtime value of 2020 reached to **16.0**\n",
    "- In 2020, most frequent downtime was **0.75** yet **0.5** most frequent downtime were reported in 2019."
   ]
  },
  {
   "cell_type": "markdown",
   "metadata": {},
   "source": [
    "## Parameter: SpentTime of Service Calls"
   ]
  },
  {
   "cell_type": "code",
   "execution_count": 25,
   "metadata": {},
   "outputs": [
    {
     "name": "stdout",
     "output_type": "stream",
     "text": [
      "Number of Service Calls in 2019 where there was spent time : 2585 / 2730\n",
      "Number of Service Calls in 2019 where there was no spent time : 145 / 2730\n",
      "Ratio of Number of Service Calls in 2019 with Time Spent : 94.68864468864469 %\n",
      "Ratio of Number of Service Calls in 2019 with no Time Spent : 5.311355311355314 %\n"
     ]
    }
   ],
   "source": [
    "# finding number of calls in 2019 where there was spent time\n",
    "df = dataset_2019[dataset_2019['Spent Time'] > 0.0]\n",
    "r, c = df.shape\n",
    "print(\"Number of Service Calls in 2019 where there was spent time : {} / 2730\".format(r))\n",
    "print(\"Number of Service Calls in 2019 where there was no spent time : {} / 2730\".format(2730-r))\n",
    "print(\"Ratio of Number of Service Calls in 2019 with Time Spent : {} %\" .format(r/2730*100))\n",
    "print(\"Ratio of Number of Service Calls in 2019 with no Time Spent : {} %\" .format(100-(r/2730*100)))"
   ]
  },
  {
   "cell_type": "code",
   "execution_count": 33,
   "metadata": {
    "scrolled": true
   },
   "outputs": [
    {
     "name": "stdout",
     "output_type": "stream",
     "text": [
      "Maximum Time Spent Value in Service Calls of 2019 : 360.0 \n",
      "Minimum Time Spent Value in Service Calls of 2019 : 0.0 \n",
      "Average of Time Spent Values in Service Calls of 2019 : 1.976183150183172 \n",
      "Variance of Time Spent Values in Service Calls of 2019 : 81.052496054366 \n",
      "Most Frequent of Time Spent Values in Service Calls of 2019 : 0.3 \n",
      "Most Frequent of Time Spent Values in Service Calls of 2019 (After 0.3): 1.0 \n"
     ]
    }
   ],
   "source": [
    "print(\"Maximum Time Spent Value in Service Calls of 2019 : {} \".format(np.max(dataset_2019['Spent Time'])))\n",
    "print(\"Minimum Time Spent Value in Service Calls of 2019 : {} \".format(np.min(dataset_2019['Spent Time'])))\n",
    "print(\"Average of Time Spent Values in Service Calls of 2019 : {} \".format(np.mean(dataset_2019['Spent Time'])))\n",
    "print(\"Variance of Time Spent Values in Service Calls of 2019 : {} \".format(np.var(dataset_2019['Spent Time'])))\n",
    "print(\"Most Frequent of Time Spent Values in Service Calls of 2019 : {} \".format(dataset_2019['Spent Time'].value_counts().index.tolist()[:1][0]))\n",
    "print(\"Most Frequent of Time Spent Values in Service Calls of 2019 (After 0.3): {} \".format(dataset_2019['Spent Time'].value_counts().index.tolist()[:2][1]))"
   ]
  },
  {
   "cell_type": "code",
   "execution_count": 27,
   "metadata": {},
   "outputs": [
    {
     "name": "stdout",
     "output_type": "stream",
     "text": [
      "Number of Service Calls in 2020 where there was spent time : 707 / 1007\n",
      "Number of Service Calls in 2020 where there was no spent time : 300 / 1007\n",
      "Ratio of Number of Service Calls in 2020 with Time Spent : 70.2085402184707 %\n",
      "Ratio of Number of Service Calls in 2020 with no Time Spent : 29.791459781529298 %\n"
     ]
    }
   ],
   "source": [
    "# finding number of calls in 2020 where there was spent time\n",
    "df = dataset_2020[dataset_2020['Spent Time'] > 0.0]\n",
    "r, c = df.shape\n",
    "print(\"Number of Service Calls in 2020 where there was spent time : {} / 1007\".format(r))\n",
    "print(\"Number of Service Calls in 2020 where there was no spent time : {} / 1007\".format(1007-r))\n",
    "print(\"Ratio of Number of Service Calls in 2020 with Time Spent : {} %\" .format(r/1007*100))\n",
    "print(\"Ratio of Number of Service Calls in 2020 with no Time Spent : {} %\" .format(100-(r/1007*100)))"
   ]
  },
  {
   "cell_type": "code",
   "execution_count": 28,
   "metadata": {
    "scrolled": false
   },
   "outputs": [
    {
     "name": "stdout",
     "output_type": "stream",
     "text": [
      "Maximum Time Spent Value in Service Calls of 2020 : 45.0 \n",
      "Minimum Time Spent Value in Service Calls of 2020 : 0.0 \n",
      "Average of Time Spent Values in Service Calls of 2020 : 0.9984607745779549 \n",
      "Variance of Time Spent Values in Service Calls of 2020 : 5.2242219604772835 \n",
      "Most Frequent of Time Spent Values in Service Calls of 2020 : 0.0 \n",
      "Most Frequent of Time Spent Values in Service Calls of 2020 (After 0): 0.5 \n"
     ]
    }
   ],
   "source": [
    "print(\"Maximum Time Spent Value in Service Calls of 2020 : {} \".format(np.max(dataset_2020['Spent Time'])))\n",
    "print(\"Minimum Time Spent Value in Service Calls of 2020 : {} \".format(np.min(dataset_2020['Spent Time'])))\n",
    "print(\"Average of Time Spent Values in Service Calls of 2020 : {} \".format(np.mean(dataset_2020['Spent Time'])))\n",
    "print(\"Variance of Time Spent Values in Service Calls of 2020 : {} \".format(np.var(dataset_2020['Spent Time'])))\n",
    "print(\"Most Frequent of Time Spent Values in Service Calls of 2020 : {} \".format(dataset_2020['Spent Time'].value_counts().index.tolist()[:1][0]))\n",
    "print(\"Most Frequent of Time Spent Values in Service Calls of 2020 (After 0): {} \".format(dataset_2020['Spent Time'].value_counts().index.tolist()[:2][1]))"
   ]
  },
  {
   "cell_type": "markdown",
   "metadata": {},
   "source": [
    "## HIGHLIGHTING FACTS OF TIME SPENT OF CALLS IN 2019 AND 2020 SERVICE CALLS\n",
    "\n",
    "- Ratio of Number of Service Calls in 2019 with Time Spent is **94.6889%** and the ratio in 2020 is **70.20%**\n",
    "- Maximum Time Spent Value in Service Calls of 2019 is **360.0** and it was notably decreased to **45.0** in 2020. \n",
    "- Variance of Time Spent Values in Service Calls of 2019 is significantly high that is **81.05** as compared to 2020 which is **5.224**\n",
    "- In 2019, Most Frequent of Time Spent Values in Service Calls is **0.3** however, in 2020 the most frequent other than 0 is **0.5**"
   ]
  },
  {
   "cell_type": "markdown",
   "metadata": {},
   "source": [
    "## Parameter: Call Time of Service Calls"
   ]
  },
  {
   "cell_type": "code",
   "execution_count": 80,
   "metadata": {
    "scrolled": true
   },
   "outputs": [
    {
     "name": "stdout",
     "output_type": "stream",
     "text": [
      "\n",
      "Service Calls in 2019 under different time slots\n"
     ]
    },
    {
     "data": {
      "text/plain": [
       "09:10:00    10\n",
       "08:22:00     9\n",
       "09:06:00     9\n",
       "13:19:00     8\n",
       "15:23:00     8\n",
       "            ..\n",
       "16:44:00     1\n",
       "19:46:00     1\n",
       "06:39:00     1\n",
       "05:41:00     1\n",
       "00:19:00     1\n",
       "Name: Call Time, Length: 1054, dtype: int64"
      ]
     },
     "execution_count": 80,
     "metadata": {},
     "output_type": "execute_result"
    }
   ],
   "source": [
    "# 2019 Service Calls in different time slots\n",
    "print(\"\\nService Calls in 2019 under different time slots\")\n",
    "df = dataset_2019['Call Time'].value_counts()\n",
    "df"
   ]
  },
  {
   "cell_type": "markdown",
   "metadata": {},
   "source": [
    "We have **1054** different time slots under which we have recieved all calls. \n",
    "\n",
    "#### Let's look for the time slots that have been busy"
   ]
  },
  {
   "cell_type": "code",
   "execution_count": 81,
   "metadata": {
    "scrolled": true
   },
   "outputs": [
    {
     "data": {
      "text/plain": [
       "[9, 8, 9, 13, 15, 10, 11, 9, 10, 10, 10, 7, 10, 7, 8, 10, 9, 8, 8, 15]"
      ]
     },
     "execution_count": 81,
     "metadata": {},
     "output_type": "execute_result"
    }
   ],
   "source": [
    "# top most calls during time slots\n",
    "df = pd.DataFrame(df)\n",
    "list_hours = []\n",
    "\n",
    "for i in range(0,20):\n",
    "    list_hours.append(df.index[i].hour)\n",
    "\n",
    "list_hours"
   ]
  },
  {
   "cell_type": "markdown",
   "metadata": {},
   "source": [
    "By looking at the list, it has been observed that the most busiest time slot has been between **7am** to **10am** when most calls are being conducted."
   ]
  },
  {
   "cell_type": "code",
   "execution_count": 82,
   "metadata": {
    "scrolled": true
   },
   "outputs": [
    {
     "name": "stdout",
     "output_type": "stream",
     "text": [
      "\n",
      "Service Calls in 2020 under different time slots\n"
     ]
    },
    {
     "data": {
      "text/plain": [
       "11:06:00    6\n",
       "10:02:00    6\n",
       "10:12:00    6\n",
       "16:40:00    5\n",
       "10:04:00    5\n",
       "           ..\n",
       "04:49:00    1\n",
       "11:31:00    1\n",
       "02:24:00    1\n",
       "07:14:00    1\n",
       "23:59:00    1\n",
       "Name: Call Time, Length: 611, dtype: int64"
      ]
     },
     "execution_count": 82,
     "metadata": {},
     "output_type": "execute_result"
    }
   ],
   "source": [
    "# 2020 Service Calls in different time slots\n",
    "print(\"\\nService Calls in 2020 under different time slots\")\n",
    "df = dataset_2020['Call Time'].value_counts()\n",
    "df"
   ]
  },
  {
   "cell_type": "markdown",
   "metadata": {},
   "source": [
    "We have **611** different time slots under which we have recieved all calls. \n",
    "\n",
    "#### Let's look for the time slots that have been busy"
   ]
  },
  {
   "cell_type": "code",
   "execution_count": 83,
   "metadata": {
    "scrolled": false
   },
   "outputs": [
    {
     "data": {
      "text/plain": [
       "[11, 10, 10, 16, 10, 14, 9, 17, 14, 10, 17, 14, 11, 17, 10, 10, 9, 11]"
      ]
     },
     "execution_count": 83,
     "metadata": {},
     "output_type": "execute_result"
    }
   ],
   "source": [
    "# top most calls during time slots\n",
    "df = pd.DataFrame(df)\n",
    "list_hours = []\n",
    "\n",
    "for i in range(0,18):\n",
    "    list_hours.append(df.index[i].hour)\n",
    "\n",
    "list_hours"
   ]
  },
  {
   "cell_type": "markdown",
   "metadata": {},
   "source": [
    "By looking at the list, it has been observed that most busiest time slot has been between **10am** to **11am** when most calls are being conducted. Also, many calls have been conducted during **2pm** to **5pm** as well."
   ]
  },
  {
   "cell_type": "markdown",
   "metadata": {},
   "source": [
    "## HIGHLIGHTING FACTS OF CALL TIME OF SERVICE CALLS IN 2019 AND 2020 SERVICE CALLS\n",
    "\n",
    "- In 2019, Most Calls were managed during **7 am to 10 am** however, in 2020 Most Calls were managed during **10 am to 11 am** or **2 pm to 5 pm**."
   ]
  },
  {
   "cell_type": "markdown",
   "metadata": {},
   "source": [
    "## Parameter: Call Date of Service Calls"
   ]
  },
  {
   "cell_type": "code",
   "execution_count": 100,
   "metadata": {
    "scrolled": false
   },
   "outputs": [
    {
     "name": "stdout",
     "output_type": "stream",
     "text": [
      "\n",
      "Service Calls in 2019 under different time slots\n"
     ]
    },
    {
     "data": {
      "text/plain": [
       "2019-07-04 00:00:00    45\n",
       "23/04/2019             33\n",
       "13/03/2019             31\n",
       "2019-09-10 00:00:00    28\n",
       "2019-03-08 00:00:00    26\n",
       "30/04/2019             26\n",
       "29/04/2019             24\n",
       "19/08/2019             24\n",
       "18/03/2019             24\n",
       "14/07/2019             23\n",
       "2019-07-10 00:00:00    23\n",
       "2019-06-07 00:00:00    22\n",
       "28/10/2019             22\n",
       "2019-04-07 00:00:00    22\n",
       "2019-08-04 00:00:00    21\n",
       "2019-02-09 00:00:00    21\n",
       "2019-09-09 00:00:00    20\n",
       "24/07/2019             20\n",
       "2019-12-03 00:00:00    20\n",
       "13/06/2019             20\n",
       "18/07/2019             19\n",
       "22/04/2019             19\n",
       "18/09/2019             19\n",
       "18/06/2019             19\n",
       "2019-03-11 00:00:00    18\n",
       "Name: Call Date, dtype: int64"
      ]
     },
     "execution_count": 100,
     "metadata": {},
     "output_type": "execute_result"
    }
   ],
   "source": [
    "# 2019 Service Calls in different time slots\n",
    "print(\"\\nService Calls in 2019 under different time slots\")\n",
    "df = dataset_2019['Call Date'].value_counts()\n",
    "df.head(20)"
   ]
  },
  {
   "cell_type": "markdown",
   "metadata": {},
   "source": [
    "By looking at the list, it has been observed that the most busiest dates has been 7th April 2019 with highest attended calls, 23rd April 2019 with second most highest attended calls then 13th March 2019 being the third highest calls attended date.\n",
    "\n",
    "Most calls are being conducted in the months of **April** and **July**. "
   ]
  },
  {
   "cell_type": "code",
   "execution_count": 102,
   "metadata": {
    "scrolled": false
   },
   "outputs": [
    {
     "name": "stdout",
     "output_type": "stream",
     "text": [
      "\n",
      "Service Calls in 2020 under different time slots\n"
     ]
    },
    {
     "data": {
      "text/plain": [
       "28/06/2020             24\n",
       "2020-07-04 00:00:00    22\n",
       "25/06/2020             21\n",
       "26/01/2020             20\n",
       "17/03/2020             19\n",
       "23/03/2020             17\n",
       "16/06/2020             17\n",
       "13/02/2020             17\n",
       "2020-12-04 00:00:00    15\n",
       "19/03/2020             15\n",
       "26/06/2020             14\n",
       "18/03/2020             14\n",
       "27/01/2020             14\n",
       "20/04/2020             14\n",
       "24/06/2020             13\n",
       "18/02/2020             13\n",
       "2020-04-06 00:00:00    13\n",
       "21/04/2020             13\n",
       "15/04/2020             12\n",
       "2020-07-02 00:00:00    12\n",
       "29/06/2020             12\n",
       "2020-02-04 00:00:00    12\n",
       "17/02/2020             12\n",
       "2020-03-03 00:00:00    12\n",
       "16/02/2020             11\n",
       "2020-03-07 00:00:00    11\n",
       "2020-12-07 00:00:00    10\n",
       "2020-03-06 00:00:00    10\n",
       "2020-10-06 00:00:00    10\n",
       "2020-08-02 00:00:00    10\n",
       "Name: Call Date, dtype: int64"
      ]
     },
     "execution_count": 102,
     "metadata": {},
     "output_type": "execute_result"
    }
   ],
   "source": [
    "# 2020 Service Calls in different time slots\n",
    "print(\"\\nService Calls in 2020 under different time slots\")\n",
    "df = dataset_2020['Call Date'].value_counts()\n",
    "df.head(30)"
   ]
  },
  {
   "cell_type": "markdown",
   "metadata": {},
   "source": [
    "By looking at the list, it has been observed that the most busiest dates has been between 28th June 2020 with highest attended calls, 7th April 2019 with second most highest attended calls then 25th June 2019 being the third highest calls attended date.\n",
    "\n",
    "Most calls are being conducted in the months of **June**, and **April**."
   ]
  },
  {
   "cell_type": "markdown",
   "metadata": {},
   "source": [
    "## HIGHLIGHTING FACTS OF CALL TIME OF SERVICE CALLS IN 2019 AND 2020 SERVICE CALLS\n",
    "\n",
    "- In 2019, Most Calls were managed in the months of **April** and **July** however, in 2020 Most Calls were managed in the months of **April** and **June**."
   ]
  },
  {
   "cell_type": "markdown",
   "metadata": {},
   "source": [
    "## Parameter: Engineer Name "
   ]
  },
  {
   "cell_type": "code",
   "execution_count": 172,
   "metadata": {},
   "outputs": [
    {
     "data": {
      "text/plain": [
       "Engineer Name\n",
       "ABHILASH MUNJANATT GEORGE              660\n",
       "Roger Dizon                            529\n",
       "RONALD FRANCO MARCHAN                  335\n",
       "CRIS CAPAROSO                          315\n",
       "ALAN O CERENEO                         287\n",
       "TAJUL ISLAM MOLLA HAFEZ ROMIZ          233\n",
       "Cresencio Gerome  Zapanta              111\n",
       "OIG GROUP TECHNICIAN                    73\n",
       "                                        53\n",
       "SHEREDAN BARBERAN                       51\n",
       "MIZANUR RAHMAN                          29\n",
       "JAHAN NOOR RASHID ABDUL GONE            24\n",
       "Saleh Al Gasmi                          16\n",
       "Workshop OCP                             4\n",
       "MANISH JOSEPH                            3\n",
       "Al Masuddin                              2\n",
       "EXTERNAL SERVICE ENGINEER                2\n",
       "ABDUR RAHIM                              2\n",
       "Jericho                                  1\n",
       "Name: Call No., dtype: int64"
      ]
     },
     "execution_count": 172,
     "metadata": {},
     "output_type": "execute_result"
    }
   ],
   "source": [
    "# looking for Number of Calls by Engineers in 2019 Service Calls\n",
    "eng_group = dataset_2019.groupby(['Engineer Name'])['Call No.'].count().sort_values(ascending=False)\n",
    "eng_group"
   ]
  },
  {
   "cell_type": "code",
   "execution_count": 1,
   "metadata": {},
   "outputs": [
    {
     "ename": "NameError",
     "evalue": "name 'sns' is not defined",
     "output_type": "error",
     "traceback": [
      "\u001b[1;31m---------------------------------------------------------------------------\u001b[0m",
      "\u001b[1;31mNameError\u001b[0m                                 Traceback (most recent call last)",
      "\u001b[1;32m<ipython-input-1-39f4a9865856>\u001b[0m in \u001b[0;36m<module>\u001b[1;34m\u001b[0m\n\u001b[1;32m----> 1\u001b[1;33m \u001b[0msns\u001b[0m\u001b[1;33m.\u001b[0m\u001b[0mset\u001b[0m\u001b[1;33m(\u001b[0m\u001b[0mstyle\u001b[0m\u001b[1;33m=\u001b[0m\u001b[1;34m\"whitegrid\"\u001b[0m\u001b[1;33m)\u001b[0m\u001b[1;33m\u001b[0m\u001b[1;33m\u001b[0m\u001b[0m\n\u001b[0m\u001b[0;32m      2\u001b[0m \u001b[1;33m\u001b[0m\u001b[0m\n\u001b[0;32m      3\u001b[0m \u001b[1;31m# initialize the matplotlib figure\u001b[0m\u001b[1;33m\u001b[0m\u001b[1;33m\u001b[0m\u001b[1;33m\u001b[0m\u001b[0m\n\u001b[0;32m      4\u001b[0m \u001b[0mfig\u001b[0m\u001b[1;33m,\u001b[0m \u001b[0maxs\u001b[0m \u001b[1;33m=\u001b[0m \u001b[0mplt\u001b[0m\u001b[1;33m.\u001b[0m\u001b[0msubplots\u001b[0m\u001b[1;33m(\u001b[0m\u001b[0mfigsize\u001b[0m\u001b[1;33m=\u001b[0m\u001b[1;33m(\u001b[0m\u001b[1;36m20\u001b[0m\u001b[1;33m,\u001b[0m\u001b[1;36m8\u001b[0m\u001b[1;33m)\u001b[0m\u001b[1;33m)\u001b[0m\u001b[1;33m\u001b[0m\u001b[1;33m\u001b[0m\u001b[0m\n\u001b[0;32m      5\u001b[0m \u001b[1;33m\u001b[0m\u001b[0m\n",
      "\u001b[1;31mNameError\u001b[0m: name 'sns' is not defined"
     ]
    }
   ],
   "source": [
    "sns.set(style=\"whitegrid\")\n",
    "\n",
    "# initialize the matplotlib figure\n",
    "fig, axs = plt.subplots(figsize=(20,8))\n",
    "\n",
    "# plot the Total Missing Values\n",
    "sns.set_color_codes(\"muted\")\n",
    "eng_group.plot(kind=\"bar\")\n",
    "\n",
    "# customizing Bar Graph\n",
    "plt.xticks(rotation='90')\n",
    "plt.xlabel('Engineer Names', fontsize=15)\n",
    "plt.ylabel('Number of Calls', fontsize=15)\n",
    "plt.title('No. of Calls Per Engineer in Service Calls 2019', fontsize=20)"
   ]
  },
  {
   "cell_type": "code",
   "execution_count": 176,
   "metadata": {},
   "outputs": [
    {
     "data": {
      "text/plain": [
       "Engineer Name\n",
       "ALAN O CERENEO                         236\n",
       "CRIS CAPAROSO                          206\n",
       "Roger Dizon                            192\n",
       "RONALD FRANCO MARCHAN                  106\n",
       "SHEREDAN BARBERAN                       90\n",
       "                                        83\n",
       "ABHILASH MUNJANATT GEORGE               37\n",
       "MIZANUR RAHMAN                          16\n",
       "Cresencio Gerome  Zapanta               16\n",
       "OIG GROUP TECHNICIAN                    11\n",
       "JAHAN NOOR RASHID ABDUL GONE             5\n",
       "Saleh Al Gasmi                           4\n",
       "MANISH JOSEPH                            2\n",
       "TAJUL ISLAM MOLLA HAFEZ ROMIZ            1\n",
       "Binding Department                       1\n",
       "Al Masuddin                              1\n",
       "Name: Call No., dtype: int64"
      ]
     },
     "execution_count": 176,
     "metadata": {},
     "output_type": "execute_result"
    }
   ],
   "source": [
    "# looking for Number of Calls by Engineers in 2020 Service Calls\n",
    "eng_group = dataset_2020.groupby(['Engineer Name'])['Call No.'].count().sort_values(ascending=False)\n",
    "eng_group"
   ]
  },
  {
   "cell_type": "code",
   "execution_count": 181,
   "metadata": {},
   "outputs": [
    {
     "data": {
      "text/plain": [
       "Text(0.5, 1.0, 'No. of Calls Per Engineer in Service Calls 2020')"
      ]
     },
     "execution_count": 181,
     "metadata": {},
     "output_type": "execute_result"
    },
    {
     "data": {
      "image/png": "[encoded data removed]",
      "text/plain": [
       "<Figure size 1440x576 with 1 Axes>"
      ]
     },
     "metadata": {},
     "output_type": "display_data"
    }
   ],
   "source": [
    "sns.set(style=\"whitegrid\")\n",
    "\n",
    "# initialize the matplotlib figure\n",
    "fig, axs = plt.subplots(figsize=(20,8))\n",
    "\n",
    "# plot the Total Missing Values\n",
    "sns.set_color_codes(\"muted\")\n",
    "eng_group.plot(kind=\"bar\", color=\"lightcoral\")\n",
    "\n",
    "# customizing Bar Graph\n",
    "plt.xticks(rotation='90')\n",
    "plt.xlabel('Engineer Names', fontsize=15)\n",
    "plt.ylabel('Number of Calls', fontsize=15)\n",
    "plt.title('No. of Calls Per Engineer in Service Calls 2020', fontsize=20)"
   ]
  },
  {
   "cell_type": "markdown",
   "metadata": {
    "collapsed": true
   },
   "source": [
    "## Summary"
   ]
  },
  {
   "cell_type": "markdown",
   "metadata": {},
   "source": [
    "In this notebook, first, we examined the data to understand it and extracted information required to know the *features* and *target*. Then, data cleaning is performed to transform the data in the right and useful format. After that, we have visualized the data to explore the relationship between the data points. Highlighted facts about the calls and comparisons are made on the basis of diffrent parameters for both years 2019 and 2020."
   ]
  }
 ],
 "metadata": {
  "kernelspec": {
   "display_name": "Python 3",
   "language": "python",
   "name": "python3"
  },
  "language_info": {
   "codemirror_mode": {
    "name": "ipython",
    "version": 3
   },
   "file_extension": ".py",
   "mimetype": "text/x-python",
   "name": "python",
   "nbconvert_exporter": "python",
   "pygments_lexer": "ipython3",
   "version": "3.7.6"
  }
 },
 "nbformat": 4,
 "nbformat_minor": 1
}
